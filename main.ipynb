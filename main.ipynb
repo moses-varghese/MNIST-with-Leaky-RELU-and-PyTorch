{
 "cells": [
  {
   "cell_type": "code",
   "execution_count": 202,
   "id": "277c23b0",
   "metadata": {},
   "outputs": [],
   "source": [
    "import torch\n",
    "import torchvision\n",
    "from torchvision import datasets\n",
    "import torch.nn as nn\n",
    "from torchvision import transforms\n",
    "import torch.optim as optim\n",
    "import torch.nn.functional as F\n",
    "import matplotlib.pyplot as plt\n",
    "import numpy as np"
   ]
  },
  {
   "cell_type": "code",
   "execution_count": 203,
   "id": "64b50137",
   "metadata": {},
   "outputs": [],
   "source": [
    "num_classes = 2\n",
    "num_epochs = 10"
   ]
  },
  {
   "cell_type": "code",
   "execution_count": 204,
   "id": "431a6cd6",
   "metadata": {
    "scrolled": true
   },
   "outputs": [],
   "source": [
    "#Loading the dataset and preprocessing\n",
    "train_dataset = torchvision.datasets.MNIST(root = './data',\n",
    "                                           train = True,\n",
    "                                           transform = transforms.Compose([\n",
    "                                                  transforms.Resize((28,28)),\n",
    "                                                  transforms.ToTensor(),\n",
    "                                                  transforms.Normalize(mean = (0.1307,), std = (0.3081,))]),\n",
    "                                           download = True)\n",
    "\n",
    "\n",
    "#test_dataset = torchvision.datasets.MNIST(root = './data',\n",
    "                                         # train = False,\n",
    "                                        #  transform = transforms.Compose([\n",
    "                                         #         transforms.Resize((32,32)),\n",
    "                                               #   transforms.ToTensor(),\n",
    "                                                #  transforms.Normalize(mean = (0.1325,), std = (0.3105,))]),\n",
    "                                       #   download=True)"
   ]
  },
  {
   "cell_type": "code",
   "execution_count": 205,
   "id": "50e06d2e",
   "metadata": {},
   "outputs": [],
   "source": [
    "train_dataset1 = torchvision.datasets.MNIST(root = './data',\n",
    "                                           train = True,\n",
    "                                           transform = transforms.Compose([\n",
    "                                                  transforms.Resize((28,28)),\n",
    "                                                  transforms.ToTensor(),\n",
    "                                                  transforms.Normalize(mean = (0.1307,), std = (0.3081,))]),\n",
    "                                           download = True)"
   ]
  },
  {
   "cell_type": "code",
   "execution_count": 206,
   "id": "bd587f02",
   "metadata": {},
   "outputs": [],
   "source": [
    "idx = train_dataset.targets==1\n",
    "train_dataset.targets = train_dataset.targets[idx]\n",
    "train_dataset.data = train_dataset.data[idx]"
   ]
  },
  {
   "cell_type": "code",
   "execution_count": 207,
   "id": "b111004a",
   "metadata": {},
   "outputs": [],
   "source": [
    "idx = train_dataset1.targets==0\n",
    "train_dataset1.targets = train_dataset1.targets[idx]\n",
    "train_dataset1.data = train_dataset1.data[idx]"
   ]
  },
  {
   "cell_type": "code",
   "execution_count": 208,
   "id": "dde2ea8f",
   "metadata": {},
   "outputs": [],
   "source": [
    "train_dataset2 = train_dataset + train_dataset1"
   ]
  },
  {
   "cell_type": "code",
   "execution_count": 209,
   "id": "3a845153",
   "metadata": {},
   "outputs": [
    {
     "name": "stdout",
     "output_type": "stream",
     "text": [
      "Net(\n",
      "  (conv1): Conv2d(1, 6, kernel_size=(5, 5), stride=(1, 1))\n",
      "  (conv2): Conv2d(6, 49, kernel_size=(5, 5), stride=(1, 1))\n",
      "  (fc1): ModuleList(\n",
      "    (0): Linear(in_features=784, out_features=256, bias=True)\n",
      "    (1): Linear(in_features=256, out_features=256, bias=True)\n",
      "    (2): Linear(in_features=256, out_features=256, bias=True)\n",
      "    (3): Linear(in_features=256, out_features=256, bias=True)\n",
      "    (4): Linear(in_features=256, out_features=256, bias=True)\n",
      "    (5): Linear(in_features=256, out_features=256, bias=True)\n",
      "    (6): Linear(in_features=256, out_features=256, bias=True)\n",
      "    (7): Linear(in_features=256, out_features=256, bias=True)\n",
      "    (8): Linear(in_features=256, out_features=256, bias=True)\n",
      "  )\n",
      "  (fc_final): Linear(in_features=256, out_features=2, bias=True)\n",
      ")\n"
     ]
    }
   ],
   "source": [
    "class Net(nn.Module):\n",
    "\n",
    "    def __init__(self):\n",
    "        super(Net, self).__init__()\n",
    "        # 1 input image channel, 6 output channels, 5x5 square convolution\n",
    "        # kernel\n",
    "        self.conv1 = nn.Conv2d(1, 6, 5)\n",
    "        self.conv2 = nn.Conv2d(6, 49, 5)\n",
    "        # an affine operation: y = Wx + b\n",
    "        self.fc1 = nn.ModuleList([nn.Linear(784, 256)])\n",
    "        self.fc1.extend([nn.Linear(256, 256) for i in range(1, 9)])\n",
    "        self.fc_final = nn.Linear(256, 2)\n",
    "        #self.list = [nn.Linear(3, 4), nn.ReLU()]\n",
    "\n",
    "    def forward(self, x):\n",
    "        # Max pooling over a (2, 2) window\n",
    "        m = nn.LeakyReLU(0.1)\n",
    "        x = m(self.conv1(x))\n",
    "        x = F.max_pool2d(x, (2, 2))\n",
    "        x = m(self.conv2(x))\n",
    "        x = F.max_pool2d(x, 2)\n",
    "        x = torch.flatten(x, 1) # flatten all dimensions except the batch dimension\n",
    "        for fc1 in self.fc1:\n",
    "            x = m(fc1(x))\n",
    "        #x = self.fc1(x)\n",
    "        #x = m(self.fc1(x))\n",
    "        x = self.fc_final(x)\n",
    "        return x\n",
    "\n",
    "\n",
    "net = Net()\n",
    "print(net)"
   ]
  },
  {
   "cell_type": "code",
   "execution_count": 210,
   "id": "8ed8b488",
   "metadata": {},
   "outputs": [],
   "source": [
    "criterion = nn.CrossEntropyLoss()\n",
    "#optimizer = optim.SGD(LN1.parameters(), lr=0.01)"
   ]
  },
  {
   "cell_type": "code",
   "execution_count": 211,
   "id": "50de074d",
   "metadata": {},
   "outputs": [],
   "source": [
    "def train(bs, lr1, num_epochs, train_dataset, model, cost, losses):\n",
    "    for epoch in range(num_epochs):\n",
    "        epoch_loss = 0\n",
    "        num = 0\n",
    "        h = []\n",
    "        train_loader = torch.utils.data.DataLoader(dataset = train_dataset,\n",
    "                                           batch_size = bs,\n",
    "                                           shuffle = True)\n",
    "        for i, (images, labels) in enumerate(train_loader):\n",
    "                outputs = model(images)\n",
    "                loss = cost(outputs, labels)\n",
    "                optimizer = optim.SGD(LN1.parameters(), lr1)\n",
    "            # Backward and optimize\n",
    "                optimizer.zero_grad()\n",
    "                loss.backward()\n",
    "                optimizer.step()\n",
    "                epoch_loss += loss\n",
    "                num += 1\n",
    "        \n",
    "        print ('Epoch [{}/{}], Loss: {:.4f}' \n",
    "                       .format(epoch+1, num_epochs, epoch_loss / num))\n",
    "        losses.append(epoch_loss / num)\n",
    "    #return losses"
   ]
  },
  {
   "cell_type": "code",
   "execution_count": 212,
   "id": "03c4b57e",
   "metadata": {},
   "outputs": [],
   "source": [
    "epochs = []\n",
    "for i in range(num_epochs):\n",
    "    epochs.append(i)"
   ]
  },
  {
   "cell_type": "code",
   "execution_count": 213,
   "id": "5b894038",
   "metadata": {
    "scrolled": true
   },
   "outputs": [
    {
     "name": "stdout",
     "output_type": "stream",
     "text": [
      "Epoch [1/10], Loss: 0.1362\n",
      "Epoch [2/10], Loss: 0.0174\n",
      "Epoch [3/10], Loss: 0.0108\n",
      "Epoch [4/10], Loss: 0.0084\n",
      "Epoch [5/10], Loss: 0.0067\n",
      "Epoch [6/10], Loss: 0.0057\n",
      "Epoch [7/10], Loss: 0.0049\n",
      "Epoch [8/10], Loss: 0.0043\n",
      "Epoch [9/10], Loss: 0.0038\n",
      "Epoch [10/10], Loss: 0.0034\n"
     ]
    }
   ],
   "source": [
    "LN1 = Net()\n",
    "def init_weights(m):\n",
    "    if isinstance(m, nn.Linear):\n",
    "        torch.nn.init.kaiming_normal_(m.weight, a = 0.1, nonlinearity='leaky_relu')\n",
    "LN1.apply(init_weights)\n",
    "losses = []\n",
    "train(64, 0.001, num_epochs, train_dataset2, LN1, criterion, losses)\n",
    "lw = torch.FloatTensor(losses)"
   ]
  },
  {
   "cell_type": "code",
   "execution_count": 214,
   "id": "e2c0aca3",
   "metadata": {},
   "outputs": [
    {
     "name": "stdout",
     "output_type": "stream",
     "text": [
      "Epoch [1/10], Loss: 0.6466\n",
      "Epoch [2/10], Loss: 0.6466\n",
      "Epoch [3/10], Loss: 0.6466\n",
      "Epoch [4/10], Loss: 0.6466\n",
      "Epoch [5/10], Loss: 0.6466\n",
      "Epoch [6/10], Loss: 0.6466\n",
      "Epoch [7/10], Loss: 0.6466\n",
      "Epoch [8/10], Loss: 0.6466\n",
      "Epoch [9/10], Loss: 0.6466\n",
      "Epoch [10/10], Loss: 0.6466\n"
     ]
    }
   ],
   "source": [
    "LN2 = Net()\n",
    "def init_weights1(m):\n",
    "    if isinstance(m, nn.Linear):\n",
    "        torch.nn.init.normal_(m.weight, mean=0.0, std=np.sqrt(2/(256*1.1)))\n",
    "LN2.apply(init_weights1)\n",
    "losses = []\n",
    "train(64, 0.001, num_epochs, train_dataset2, LN2, criterion, losses)\n",
    "lw16 = torch.FloatTensor(losses)"
   ]
  },
  {
   "cell_type": "code",
   "execution_count": 215,
   "id": "ec447425",
   "metadata": {},
   "outputs": [
    {
     "data": {
      "image/png": "[encoded data removed]",
      "text/plain": [
       "<Figure size 432x288 with 1 Axes>"
      ]
     },
     "metadata": {
      "needs_background": "light"
     },
     "output_type": "display_data"
    }
   ],
   "source": [
    "plt.plot(epochs, lw, color='r', label='Kaiming')\n",
    "plt.plot(epochs, lw16, color='b', label='normal')\n",
    "plt.xlabel(\"Epoch\")\n",
    "plt.ylabel(\"Loss\")\n",
    "plt.title(\"Stochastic Gradient Descent with Batch_Size = 64, H = 10, lr = 0.001, alpha = 0.1\")\n",
    "plt.legend()\n",
    "plt.show()"
   ]
  },
  {
   "cell_type": "code",
   "execution_count": 216,
   "id": "700a5e78",
   "metadata": {},
   "outputs": [
    {
     "name": "stdout",
     "output_type": "stream",
     "text": [
      "Net(\n",
      "  (conv1): Conv2d(1, 6, kernel_size=(5, 5), stride=(1, 1))\n",
      "  (conv2): Conv2d(6, 49, kernel_size=(5, 5), stride=(1, 1))\n",
      "  (fc1): ModuleList(\n",
      "    (0): Linear(in_features=784, out_features=256, bias=True)\n",
      "    (1): Linear(in_features=256, out_features=256, bias=True)\n",
      "    (2): Linear(in_features=256, out_features=256, bias=True)\n",
      "    (3): Linear(in_features=256, out_features=256, bias=True)\n",
      "    (4): Linear(in_features=256, out_features=256, bias=True)\n",
      "    (5): Linear(in_features=256, out_features=256, bias=True)\n",
      "    (6): Linear(in_features=256, out_features=256, bias=True)\n",
      "    (7): Linear(in_features=256, out_features=256, bias=True)\n",
      "    (8): Linear(in_features=256, out_features=256, bias=True)\n",
      "  )\n",
      "  (fc_final): Linear(in_features=256, out_features=2, bias=True)\n",
      ")\n"
     ]
    }
   ],
   "source": [
    "class Net(nn.Module):\n",
    "\n",
    "    def __init__(self):\n",
    "        super(Net, self).__init__()\n",
    "        # 1 input image channel, 6 output channels, 5x5 square convolution\n",
    "        # kernel\n",
    "        self.conv1 = nn.Conv2d(1, 6, 5)\n",
    "        self.conv2 = nn.Conv2d(6, 49, 5)\n",
    "        # an affine operation: y = Wx + b\n",
    "        self.fc1 = nn.ModuleList([nn.Linear(784, 256)])\n",
    "        self.fc1.extend([nn.Linear(256, 256) for i in range(1, 9)])\n",
    "        self.fc_final = nn.Linear(256, 2)\n",
    "        #self.list = [nn.Linear(3, 4), nn.ReLU()]\n",
    "\n",
    "    def forward(self, x):\n",
    "        # Max pooling over a (2, 2) window\n",
    "        m = nn.LeakyReLU(0.5)\n",
    "        x = m(self.conv1(x))\n",
    "        x = F.max_pool2d(x, (2, 2))\n",
    "        x = m(self.conv2(x))\n",
    "        x = F.max_pool2d(x, 2)\n",
    "        x = torch.flatten(x, 1) # flatten all dimensions except the batch dimension\n",
    "        for fc1 in self.fc1:\n",
    "            x = m(fc1(x))\n",
    "        #x = self.fc1(x)\n",
    "        #x = m(self.fc1(x))\n",
    "        x = self.fc_final(x)\n",
    "        return x\n",
    "\n",
    "\n",
    "net = Net()\n",
    "print(net)"
   ]
  },
  {
   "cell_type": "code",
   "execution_count": 217,
   "id": "7ab25f13",
   "metadata": {},
   "outputs": [],
   "source": [
    "criterion = nn.CrossEntropyLoss()\n",
    "#optimizer = optim.SGD(LN1.parameters(), lr=0.01)"
   ]
  },
  {
   "cell_type": "code",
   "execution_count": 218,
   "id": "2015279d",
   "metadata": {},
   "outputs": [],
   "source": [
    "def train(bs, lr1, num_epochs, train_dataset, model, cost, losses):\n",
    "    for epoch in range(num_epochs):\n",
    "        epoch_loss = 0\n",
    "        num = 0\n",
    "        h = []\n",
    "        train_loader = torch.utils.data.DataLoader(dataset = train_dataset,\n",
    "                                           batch_size = bs,\n",
    "                                           shuffle = True)\n",
    "        for i, (images, labels) in enumerate(train_loader):\n",
    "                outputs = model(images)\n",
    "                loss = cost(outputs, labels)\n",
    "                optimizer = optim.SGD(LN1.parameters(), lr1)\n",
    "            # Backward and optimize\n",
    "                optimizer.zero_grad()\n",
    "                loss.backward()\n",
    "                optimizer.step()\n",
    "                epoch_loss += loss\n",
    "                num += 1\n",
    "        \n",
    "        print ('Epoch [{}/{}], Loss: {:.4f}' \n",
    "                       .format(epoch+1, num_epochs, epoch_loss / num))\n",
    "        losses.append(epoch_loss / num)\n",
    "    #return losses"
   ]
  },
  {
   "cell_type": "code",
   "execution_count": 219,
   "id": "6aecf5d7",
   "metadata": {},
   "outputs": [],
   "source": [
    "epochs = []\n",
    "for i in range(num_epochs):\n",
    "    epochs.append(i)"
   ]
  },
  {
   "cell_type": "code",
   "execution_count": 220,
   "id": "2b41b4c7",
   "metadata": {},
   "outputs": [
    {
     "name": "stdout",
     "output_type": "stream",
     "text": [
      "Epoch [1/10], Loss: 0.1310\n",
      "Epoch [2/10], Loss: 0.0160\n",
      "Epoch [3/10], Loss: 0.0103\n",
      "Epoch [4/10], Loss: 0.0083\n",
      "Epoch [5/10], Loss: 0.0071\n",
      "Epoch [6/10], Loss: 0.0063\n",
      "Epoch [7/10], Loss: 0.0058\n",
      "Epoch [8/10], Loss: 0.0053\n",
      "Epoch [9/10], Loss: 0.0049\n",
      "Epoch [10/10], Loss: 0.0046\n"
     ]
    }
   ],
   "source": [
    "LN1 = Net()\n",
    "def init_weights(m):\n",
    "    if isinstance(m, nn.Linear):\n",
    "        torch.nn.init.kaiming_normal_(m.weight, a = 0.5, nonlinearity='leaky_relu')\n",
    "LN1.apply(init_weights)\n",
    "losses = []\n",
    "train(64, 0.001, num_epochs, train_dataset2, LN1, criterion, losses)\n",
    "lw1 = torch.FloatTensor(losses)"
   ]
  },
  {
   "cell_type": "code",
   "execution_count": 221,
   "id": "018da904",
   "metadata": {},
   "outputs": [
    {
     "name": "stdout",
     "output_type": "stream",
     "text": [
      "Epoch [1/10], Loss: 0.6888\n",
      "Epoch [2/10], Loss: 0.6888\n",
      "Epoch [3/10], Loss: 0.6888\n",
      "Epoch [4/10], Loss: 0.6888\n",
      "Epoch [5/10], Loss: 0.6888\n",
      "Epoch [6/10], Loss: 0.6888\n",
      "Epoch [7/10], Loss: 0.6888\n",
      "Epoch [8/10], Loss: 0.6889\n",
      "Epoch [9/10], Loss: 0.6888\n",
      "Epoch [10/10], Loss: 0.6888\n"
     ]
    }
   ],
   "source": [
    "LN2 = Net()\n",
    "def init_weights(m):\n",
    "    if isinstance(m, nn.Linear):\n",
    "        torch.nn.init.normal_(m.weight, mean=0.0, std=np.sqrt(2/(256*1.5)))\n",
    "LN2.apply(init_weights)\n",
    "losses = []\n",
    "train(64, 0.001, num_epochs, train_dataset2, LN2, criterion, losses)\n",
    "lw17 = torch.FloatTensor(losses)"
   ]
  },
  {
   "cell_type": "code",
   "execution_count": 222,
   "id": "348f16f1",
   "metadata": {},
   "outputs": [
    {
     "data": {
      "image/png": "[encoded data removed]",
      "text/plain": [
       "<Figure size 432x288 with 1 Axes>"
      ]
     },
     "metadata": {
      "needs_background": "light"
     },
     "output_type": "display_data"
    }
   ],
   "source": [
    "plt.plot(epochs, lw1, color='r', label='Kaiming')\n",
    "plt.plot(epochs, lw17, color='b', label='normal')\n",
    "plt.xlabel(\"Epoch\")\n",
    "plt.ylabel(\"Loss\")\n",
    "plt.title(\"Stochastic Gradient Descent with Batch_Size = 64, H = 10, lr = 0.001, alpha = 0.5\")\n",
    "plt.legend()\n",
    "plt.show()"
   ]
  },
  {
   "cell_type": "code",
   "execution_count": 223,
   "id": "13b97180",
   "metadata": {},
   "outputs": [
    {
     "name": "stdout",
     "output_type": "stream",
     "text": [
      "Net(\n",
      "  (conv1): Conv2d(1, 6, kernel_size=(5, 5), stride=(1, 1))\n",
      "  (conv2): Conv2d(6, 49, kernel_size=(5, 5), stride=(1, 1))\n",
      "  (fc1): ModuleList(\n",
      "    (0): Linear(in_features=784, out_features=256, bias=True)\n",
      "    (1): Linear(in_features=256, out_features=256, bias=True)\n",
      "    (2): Linear(in_features=256, out_features=256, bias=True)\n",
      "    (3): Linear(in_features=256, out_features=256, bias=True)\n",
      "    (4): Linear(in_features=256, out_features=256, bias=True)\n",
      "    (5): Linear(in_features=256, out_features=256, bias=True)\n",
      "    (6): Linear(in_features=256, out_features=256, bias=True)\n",
      "    (7): Linear(in_features=256, out_features=256, bias=True)\n",
      "    (8): Linear(in_features=256, out_features=256, bias=True)\n",
      "  )\n",
      "  (fc_final): Linear(in_features=256, out_features=2, bias=True)\n",
      ")\n"
     ]
    }
   ],
   "source": [
    "class Net(nn.Module):\n",
    "\n",
    "    def __init__(self):\n",
    "        super(Net, self).__init__()\n",
    "        # 1 input image channel, 6 output channels, 5x5 square convolution\n",
    "        # kernel\n",
    "        self.conv1 = nn.Conv2d(1, 6, 5)\n",
    "        self.conv2 = nn.Conv2d(6, 49, 5)\n",
    "        # an affine operation: y = Wx + b\n",
    "        self.fc1 = nn.ModuleList([nn.Linear(784, 256)])\n",
    "        self.fc1.extend([nn.Linear(256, 256) for i in range(1, 9)])\n",
    "        self.fc_final = nn.Linear(256, 2)\n",
    "        #self.list = [nn.Linear(3, 4), nn.ReLU()]\n",
    "\n",
    "    def forward(self, x):\n",
    "        # Max pooling over a (2, 2) window\n",
    "        m = nn.LeakyReLU(1.0)\n",
    "        x = m(self.conv1(x))\n",
    "        x = F.max_pool2d(x, (2, 2))\n",
    "        x = m(self.conv2(x))\n",
    "        x = F.max_pool2d(x, 2)\n",
    "        x = torch.flatten(x, 1) # flatten all dimensions except the batch dimension\n",
    "        for fc1 in self.fc1:\n",
    "            x = m(fc1(x))\n",
    "        #x = self.fc1(x)\n",
    "        #x = m(self.fc1(x))\n",
    "        x = self.fc_final(x)\n",
    "        return x\n",
    "\n",
    "\n",
    "net = Net()\n",
    "print(net)"
   ]
  },
  {
   "cell_type": "code",
   "execution_count": 224,
   "id": "9139bdda",
   "metadata": {},
   "outputs": [],
   "source": [
    "criterion = nn.CrossEntropyLoss()\n",
    "#optimizer = optim.SGD(LN1.parameters(), lr=0.01)"
   ]
  },
  {
   "cell_type": "code",
   "execution_count": 225,
   "id": "7d97a5f5",
   "metadata": {},
   "outputs": [],
   "source": [
    "def train(bs, lr1, num_epochs, train_dataset, model, cost, losses):\n",
    "    for epoch in range(num_epochs):\n",
    "        epoch_loss = 0\n",
    "        num = 0\n",
    "        h = []\n",
    "        train_loader = torch.utils.data.DataLoader(dataset = train_dataset,\n",
    "                                           batch_size = bs,\n",
    "                                           shuffle = True)\n",
    "        for i, (images, labels) in enumerate(train_loader):\n",
    "                outputs = model(images)\n",
    "                loss = cost(outputs, labels)\n",
    "                optimizer = optim.SGD(LN1.parameters(), lr1)\n",
    "            # Backward and optimize\n",
    "                optimizer.zero_grad()\n",
    "                loss.backward()\n",
    "                optimizer.step()\n",
    "                epoch_loss += loss\n",
    "                num += 1\n",
    "        \n",
    "        print ('Epoch [{}/{}], Loss: {:.4f}' \n",
    "                       .format(epoch+1, num_epochs, epoch_loss / num))\n",
    "        losses.append(epoch_loss / num)\n",
    "    #return losses"
   ]
  },
  {
   "cell_type": "code",
   "execution_count": 226,
   "id": "858f5d12",
   "metadata": {},
   "outputs": [],
   "source": [
    "epochs = []\n",
    "for i in range(num_epochs):\n",
    "    epochs.append(i)"
   ]
  },
  {
   "cell_type": "code",
   "execution_count": 227,
   "id": "012e944f",
   "metadata": {},
   "outputs": [
    {
     "name": "stdout",
     "output_type": "stream",
     "text": [
      "Epoch [1/10], Loss: 0.0772\n",
      "Epoch [2/10], Loss: 0.0137\n",
      "Epoch [3/10], Loss: 0.0101\n",
      "Epoch [4/10], Loss: 0.0084\n",
      "Epoch [5/10], Loss: 0.0074\n",
      "Epoch [6/10], Loss: 0.0067\n",
      "Epoch [7/10], Loss: 0.0061\n",
      "Epoch [8/10], Loss: 0.0057\n",
      "Epoch [9/10], Loss: 0.0052\n",
      "Epoch [10/10], Loss: 0.0050\n"
     ]
    }
   ],
   "source": [
    "LN1 = Net()\n",
    "def init_weights(m):\n",
    "    if isinstance(m, nn.Linear):\n",
    "        torch.nn.init.kaiming_normal_(m.weight, a = 1.0, nonlinearity='leaky_relu')\n",
    "LN1.apply(init_weights)\n",
    "losses = []\n",
    "train(64, 0.001, num_epochs, train_dataset2, LN1, criterion, losses)\n",
    "lw2 = torch.FloatTensor(losses)"
   ]
  },
  {
   "cell_type": "code",
   "execution_count": 228,
   "id": "c748c44b",
   "metadata": {},
   "outputs": [
    {
     "name": "stdout",
     "output_type": "stream",
     "text": [
      "Epoch [1/10], Loss: 0.6140\n",
      "Epoch [2/10], Loss: 0.6140\n",
      "Epoch [3/10], Loss: 0.6139\n",
      "Epoch [4/10], Loss: 0.6140\n",
      "Epoch [5/10], Loss: 0.6140\n",
      "Epoch [6/10], Loss: 0.6140\n",
      "Epoch [7/10], Loss: 0.6140\n",
      "Epoch [8/10], Loss: 0.6140\n",
      "Epoch [9/10], Loss: 0.6139\n",
      "Epoch [10/10], Loss: 0.6140\n"
     ]
    }
   ],
   "source": [
    "LN2 = Net()\n",
    "def init_weights(m):\n",
    "    if isinstance(m, nn.Linear):\n",
    "        torch.nn.init.normal_(m.weight, mean=0.0, std=np.sqrt(2/(256*2.0)))\n",
    "LN2.apply(init_weights)\n",
    "losses = []\n",
    "train(64, 0.001, num_epochs, train_dataset2, LN2, criterion, losses)\n",
    "lw18 = torch.FloatTensor(losses)"
   ]
  },
  {
   "cell_type": "code",
   "execution_count": 229,
   "id": "2fc0b29f",
   "metadata": {},
   "outputs": [
    {
     "data": {
      "image/png": "[encoded data removed]",
      "text/plain": [
       "<Figure size 432x288 with 1 Axes>"
      ]
     },
     "metadata": {
      "needs_background": "light"
     },
     "output_type": "display_data"
    }
   ],
   "source": [
    "plt.plot(epochs, lw2, color='r', label='Kaiming')\n",
    "plt.plot(epochs, lw18, color='b', label='normal')\n",
    "plt.xlabel(\"Epoch\")\n",
    "plt.ylabel(\"Loss\")\n",
    "plt.title(\"Stochastic Gradient Descent with Batch_Size = 64, H = 10, lr = 0.001, alpha = 1.0\")\n",
    "plt.legend()\n",
    "plt.show()"
   ]
  },
  {
   "cell_type": "code",
   "execution_count": 230,
   "id": "03fbab4e",
   "metadata": {},
   "outputs": [
    {
     "name": "stdout",
     "output_type": "stream",
     "text": [
      "Net(\n",
      "  (conv1): Conv2d(1, 6, kernel_size=(5, 5), stride=(1, 1))\n",
      "  (conv2): Conv2d(6, 49, kernel_size=(5, 5), stride=(1, 1))\n",
      "  (fc1): ModuleList(\n",
      "    (0): Linear(in_features=784, out_features=256, bias=True)\n",
      "    (1): Linear(in_features=256, out_features=256, bias=True)\n",
      "    (2): Linear(in_features=256, out_features=256, bias=True)\n",
      "    (3): Linear(in_features=256, out_features=256, bias=True)\n",
      "    (4): Linear(in_features=256, out_features=256, bias=True)\n",
      "    (5): Linear(in_features=256, out_features=256, bias=True)\n",
      "    (6): Linear(in_features=256, out_features=256, bias=True)\n",
      "    (7): Linear(in_features=256, out_features=256, bias=True)\n",
      "    (8): Linear(in_features=256, out_features=256, bias=True)\n",
      "  )\n",
      "  (fc_final): Linear(in_features=256, out_features=2, bias=True)\n",
      ")\n"
     ]
    }
   ],
   "source": [
    "class Net(nn.Module):\n",
    "\n",
    "    def __init__(self):\n",
    "        super(Net, self).__init__()\n",
    "        # 1 input image channel, 6 output channels, 5x5 square convolution\n",
    "        # kernel\n",
    "        self.conv1 = nn.Conv2d(1, 6, 5)\n",
    "        self.conv2 = nn.Conv2d(6, 49, 5)\n",
    "        # an affine operation: y = Wx + b\n",
    "        self.fc1 = nn.ModuleList([nn.Linear(784, 256)])\n",
    "        self.fc1.extend([nn.Linear(256, 256) for i in range(1, 9)])\n",
    "        self.fc_final = nn.Linear(256, 2)\n",
    "        #self.list = [nn.Linear(3, 4), nn.ReLU()]\n",
    "\n",
    "    def forward(self, x):\n",
    "        # Max pooling over a (2, 2) window\n",
    "        m = nn.LeakyReLU(2.0)\n",
    "        x = m(self.conv1(x))\n",
    "        x = F.max_pool2d(x, (2, 2))\n",
    "        x = m(self.conv2(x))\n",
    "        x = F.max_pool2d(x, 2)\n",
    "        x = torch.flatten(x, 1) # flatten all dimensions except the batch dimension\n",
    "        for fc1 in self.fc1:\n",
    "            x = m(fc1(x))\n",
    "        #x = self.fc1(x)\n",
    "        #x = m(self.fc1(x))\n",
    "        x = self.fc_final(x)\n",
    "        return x\n",
    "\n",
    "\n",
    "net = Net()\n",
    "print(net)"
   ]
  },
  {
   "cell_type": "code",
   "execution_count": 231,
   "id": "eeba7a0d",
   "metadata": {},
   "outputs": [],
   "source": [
    "criterion = nn.CrossEntropyLoss()\n",
    "#optimizer = optim.SGD(LN1.parameters(), lr=0.01)"
   ]
  },
  {
   "cell_type": "code",
   "execution_count": 232,
   "id": "348e421c",
   "metadata": {},
   "outputs": [],
   "source": [
    "def train(bs, lr1, num_epochs, train_dataset, model, cost, losses):\n",
    "    for epoch in range(num_epochs):\n",
    "        epoch_loss = 0\n",
    "        num = 0\n",
    "        h = []\n",
    "        train_loader = torch.utils.data.DataLoader(dataset = train_dataset,\n",
    "                                           batch_size = bs,\n",
    "                                           shuffle = True)\n",
    "        for i, (images, labels) in enumerate(train_loader):\n",
    "                outputs = model(images)\n",
    "                loss = cost(outputs, labels)\n",
    "                optimizer = optim.SGD(LN1.parameters(), lr1)\n",
    "            # Backward and optimize\n",
    "                optimizer.zero_grad()\n",
    "                loss.backward()\n",
    "                optimizer.step()\n",
    "                epoch_loss += loss\n",
    "                num += 1\n",
    "        \n",
    "        print ('Epoch [{}/{}], Loss: {:.4f}' \n",
    "                       .format(epoch+1, num_epochs, epoch_loss / num))\n",
    "        losses.append(epoch_loss / num)\n",
    "    #return losses"
   ]
  },
  {
   "cell_type": "code",
   "execution_count": 233,
   "id": "e52489ac",
   "metadata": {},
   "outputs": [],
   "source": [
    "epochs = []\n",
    "for i in range(num_epochs):\n",
    "    epochs.append(i)"
   ]
  },
  {
   "cell_type": "code",
   "execution_count": 234,
   "id": "d7906093",
   "metadata": {},
   "outputs": [
    {
     "name": "stdout",
     "output_type": "stream",
     "text": [
      "Epoch [1/10], Loss: 0.0527\n",
      "Epoch [2/10], Loss: 0.0118\n",
      "Epoch [3/10], Loss: 0.0091\n",
      "Epoch [4/10], Loss: 0.0075\n",
      "Epoch [5/10], Loss: 0.0064\n",
      "Epoch [6/10], Loss: 0.0056\n",
      "Epoch [7/10], Loss: 0.0050\n",
      "Epoch [8/10], Loss: 0.0045\n",
      "Epoch [9/10], Loss: 0.0041\n",
      "Epoch [10/10], Loss: 0.0037\n"
     ]
    }
   ],
   "source": [
    "LN1 = Net()\n",
    "def init_weights(m):\n",
    "    if isinstance(m, nn.Linear):\n",
    "        torch.nn.init.kaiming_normal_(m.weight, a = 2.0, nonlinearity='leaky_relu')\n",
    "LN1.apply(init_weights)\n",
    "losses = []\n",
    "train(64, 0.001, num_epochs, train_dataset2, LN1, criterion, losses)\n",
    "lw3 = torch.FloatTensor(losses)"
   ]
  },
  {
   "cell_type": "code",
   "execution_count": 235,
   "id": "65ced6ac",
   "metadata": {},
   "outputs": [
    {
     "name": "stdout",
     "output_type": "stream",
     "text": [
      "Epoch [1/10], Loss: 0.6894\n",
      "Epoch [2/10], Loss: 0.6894\n",
      "Epoch [3/10], Loss: 0.6894\n",
      "Epoch [4/10], Loss: 0.6894\n",
      "Epoch [5/10], Loss: 0.6894\n",
      "Epoch [6/10], Loss: 0.6894\n",
      "Epoch [7/10], Loss: 0.6894\n",
      "Epoch [8/10], Loss: 0.6894\n",
      "Epoch [9/10], Loss: 0.6894\n",
      "Epoch [10/10], Loss: 0.6894\n"
     ]
    }
   ],
   "source": [
    "LN2 = Net()\n",
    "def init_weights(m):\n",
    "    if isinstance(m, nn.Linear):\n",
    "        torch.nn.init.trunc_normal_(m.weight, mean=0.0, std=np.sqrt(2/(256*3.0)), a = -np.sqrt(2/(256*3.0)), b =np.sqrt(2/(256*3.0)) )\n",
    "LN2.apply(init_weights)\n",
    "losses = []\n",
    "train(64, 0.001, num_epochs, train_dataset2, LN2, criterion, losses)\n",
    "lw19 = torch.FloatTensor(losses)"
   ]
  },
  {
   "cell_type": "code",
   "execution_count": 236,
   "id": "516f713a",
   "metadata": {},
   "outputs": [
    {
     "data": {
      "image/png": "[encoded data removed]",
      "text/plain": [
       "<Figure size 432x288 with 1 Axes>"
      ]
     },
     "metadata": {
      "needs_background": "light"
     },
     "output_type": "display_data"
    }
   ],
   "source": [
    "plt.plot(epochs, lw3, color='r', label='Kaiming')\n",
    "plt.plot(epochs, lw19, color='b', label='normal')\n",
    "plt.xlabel(\"Epoch\")\n",
    "plt.ylabel(\"Loss\")\n",
    "plt.title(\"Stochastic Gradient Descent with Batch_Size = 64, H = 10, lr = 0.001, alpha = 2.0\")\n",
    "plt.legend()\n",
    "plt.show()"
   ]
  },
  {
   "cell_type": "code",
   "execution_count": 237,
   "id": "b11cf7b2",
   "metadata": {},
   "outputs": [
    {
     "name": "stdout",
     "output_type": "stream",
     "text": [
      "Net(\n",
      "  (conv1): Conv2d(1, 6, kernel_size=(5, 5), stride=(1, 1))\n",
      "  (conv2): Conv2d(6, 49, kernel_size=(5, 5), stride=(1, 1))\n",
      "  (fc1): ModuleList(\n",
      "    (0): Linear(in_features=784, out_features=256, bias=True)\n",
      "    (1): Linear(in_features=256, out_features=256, bias=True)\n",
      "    (2): Linear(in_features=256, out_features=256, bias=True)\n",
      "    (3): Linear(in_features=256, out_features=256, bias=True)\n",
      "    (4): Linear(in_features=256, out_features=256, bias=True)\n",
      "    (5): Linear(in_features=256, out_features=256, bias=True)\n",
      "    (6): Linear(in_features=256, out_features=256, bias=True)\n",
      "    (7): Linear(in_features=256, out_features=256, bias=True)\n",
      "    (8): Linear(in_features=256, out_features=256, bias=True)\n",
      "    (9): Linear(in_features=256, out_features=256, bias=True)\n",
      "    (10): Linear(in_features=256, out_features=256, bias=True)\n",
      "    (11): Linear(in_features=256, out_features=256, bias=True)\n",
      "    (12): Linear(in_features=256, out_features=256, bias=True)\n",
      "    (13): Linear(in_features=256, out_features=256, bias=True)\n",
      "    (14): Linear(in_features=256, out_features=256, bias=True)\n",
      "    (15): Linear(in_features=256, out_features=256, bias=True)\n",
      "    (16): Linear(in_features=256, out_features=256, bias=True)\n",
      "    (17): Linear(in_features=256, out_features=256, bias=True)\n",
      "    (18): Linear(in_features=256, out_features=256, bias=True)\n",
      "  )\n",
      "  (fc_final): Linear(in_features=256, out_features=2, bias=True)\n",
      ")\n"
     ]
    }
   ],
   "source": [
    "class Net(nn.Module):\n",
    "\n",
    "    def __init__(self):\n",
    "        super(Net, self).__init__()\n",
    "        # 1 input image channel, 6 output channels, 5x5 square convolution\n",
    "        # kernel\n",
    "        self.conv1 = nn.Conv2d(1, 6, 5)\n",
    "        self.conv2 = nn.Conv2d(6, 49, 5)\n",
    "        # an affine operation: y = Wx + b\n",
    "        self.fc1 = nn.ModuleList([nn.Linear(784, 256)])\n",
    "        self.fc1.extend([nn.Linear(256, 256) for i in range(1, 19)])\n",
    "        self.fc_final = nn.Linear(256, 2)\n",
    "        #self.list = [nn.Linear(3, 4), nn.ReLU()]\n",
    "\n",
    "    def forward(self, x):\n",
    "        # Max pooling over a (2, 2) window\n",
    "        m = nn.LeakyReLU(0.1)\n",
    "        x = m(self.conv1(x))\n",
    "        x = F.max_pool2d(x, (2, 2))\n",
    "        x = m(self.conv2(x))\n",
    "        x = F.max_pool2d(x, 2)\n",
    "        x = torch.flatten(x, 1) # flatten all dimensions except the batch dimension\n",
    "        for fc1 in self.fc1:\n",
    "            x = m(fc1(x))\n",
    "        #x = self.fc1(x)\n",
    "        #x = m(self.fc1(x))\n",
    "        x = self.fc_final(x)\n",
    "        return x\n",
    "\n",
    "\n",
    "net = Net()\n",
    "print(net)"
   ]
  },
  {
   "cell_type": "code",
   "execution_count": 238,
   "id": "e1062638",
   "metadata": {},
   "outputs": [],
   "source": [
    "criterion = nn.CrossEntropyLoss()\n",
    "#optimizer = optim.SGD(LN1.parameters(), lr=0.01)"
   ]
  },
  {
   "cell_type": "code",
   "execution_count": 239,
   "id": "6aa3106b",
   "metadata": {},
   "outputs": [],
   "source": [
    "def train(bs, lr1, num_epochs, train_dataset, model, cost, losses):\n",
    "    for epoch in range(num_epochs):\n",
    "        epoch_loss = 0\n",
    "        num = 0\n",
    "        h = []\n",
    "        train_loader = torch.utils.data.DataLoader(dataset = train_dataset,\n",
    "                                           batch_size = bs,\n",
    "                                           shuffle = True)\n",
    "        for i, (images, labels) in enumerate(train_loader):\n",
    "                outputs = model(images)\n",
    "                loss = cost(outputs, labels)\n",
    "                optimizer = optim.SGD(LN1.parameters(), lr1)\n",
    "            # Backward and optimize\n",
    "                optimizer.zero_grad()\n",
    "                loss.backward()\n",
    "                optimizer.step()\n",
    "                epoch_loss += loss\n",
    "                num += 1\n",
    "        \n",
    "        print ('Epoch [{}/{}], Loss: {:.4f}' \n",
    "                       .format(epoch+1, num_epochs, epoch_loss / num))\n",
    "        losses.append(epoch_loss / num)\n",
    "    #return losses"
   ]
  },
  {
   "cell_type": "code",
   "execution_count": 240,
   "id": "5c0658f7",
   "metadata": {},
   "outputs": [],
   "source": [
    "epochs = []\n",
    "for i in range(num_epochs):\n",
    "    epochs.append(i)"
   ]
  },
  {
   "cell_type": "code",
   "execution_count": 241,
   "id": "97de8ef0",
   "metadata": {},
   "outputs": [
    {
     "name": "stdout",
     "output_type": "stream",
     "text": [
      "Epoch [1/10], Loss: 0.2322\n",
      "Epoch [2/10], Loss: 0.0146\n",
      "Epoch [3/10], Loss: 0.0077\n",
      "Epoch [4/10], Loss: 0.0053\n",
      "Epoch [5/10], Loss: 0.0042\n",
      "Epoch [6/10], Loss: 0.0034\n",
      "Epoch [7/10], Loss: 0.0025\n",
      "Epoch [8/10], Loss: 0.0021\n",
      "Epoch [9/10], Loss: 0.0020\n",
      "Epoch [10/10], Loss: 0.0017\n"
     ]
    }
   ],
   "source": [
    "LN1 = Net()\n",
    "def init_weights(m):\n",
    "    if isinstance(m, nn.Linear):\n",
    "        torch.nn.init.kaiming_normal_(m.weight, a = 0.1, nonlinearity='leaky_relu')\n",
    "LN1.apply(init_weights)\n",
    "losses = []\n",
    "train(64, 0.001, num_epochs, train_dataset2, LN1, criterion, losses)\n",
    "lw4 = torch.FloatTensor(losses)"
   ]
  },
  {
   "cell_type": "code",
   "execution_count": 242,
   "id": "9075df45",
   "metadata": {},
   "outputs": [
    {
     "name": "stdout",
     "output_type": "stream",
     "text": [
      "Epoch [1/10], Loss: 0.6811\n",
      "Epoch [2/10], Loss: 0.6811\n",
      "Epoch [3/10], Loss: 0.6811\n",
      "Epoch [4/10], Loss: 0.6811\n",
      "Epoch [5/10], Loss: 0.6811\n",
      "Epoch [6/10], Loss: 0.6811\n",
      "Epoch [7/10], Loss: 0.6811\n",
      "Epoch [8/10], Loss: 0.6811\n",
      "Epoch [9/10], Loss: 0.6810\n",
      "Epoch [10/10], Loss: 0.6811\n"
     ]
    }
   ],
   "source": [
    "LN2 = Net()\n",
    "def init_weights(m):\n",
    "    if isinstance(m, nn.Linear):\n",
    "        torch.nn.init.normal_(m.weight, mean=0.0, std=np.sqrt(2/(256*1.1)))\n",
    "LN2.apply(init_weights)\n",
    "losses = []\n",
    "train(64, 0.001, num_epochs, train_dataset2, LN2, criterion, losses)\n",
    "lw20 = torch.FloatTensor(losses)"
   ]
  },
  {
   "cell_type": "code",
   "execution_count": 243,
   "id": "1c694130",
   "metadata": {},
   "outputs": [
    {
     "data": {
      "image/png": "[encoded data removed]",
      "text/plain": [
       "<Figure size 432x288 with 1 Axes>"
      ]
     },
     "metadata": {
      "needs_background": "light"
     },
     "output_type": "display_data"
    }
   ],
   "source": [
    "plt.plot(epochs, lw4, color='r', label='Kaiming')\n",
    "plt.plot(epochs, lw20, color='b', label='normal')\n",
    "plt.xlabel(\"Epoch\")\n",
    "plt.ylabel(\"Loss\")\n",
    "plt.title(\"Stochastic Gradient Descent with Batch_Size = 64, H = 20, lr = 0.001, alpha = 0.1\")\n",
    "plt.legend()\n",
    "plt.show()"
   ]
  },
  {
   "cell_type": "code",
   "execution_count": 244,
   "id": "da24242b",
   "metadata": {},
   "outputs": [
    {
     "name": "stdout",
     "output_type": "stream",
     "text": [
      "Net(\n",
      "  (conv1): Conv2d(1, 6, kernel_size=(5, 5), stride=(1, 1))\n",
      "  (conv2): Conv2d(6, 49, kernel_size=(5, 5), stride=(1, 1))\n",
      "  (fc1): ModuleList(\n",
      "    (0): Linear(in_features=784, out_features=256, bias=True)\n",
      "    (1): Linear(in_features=256, out_features=256, bias=True)\n",
      "    (2): Linear(in_features=256, out_features=256, bias=True)\n",
      "    (3): Linear(in_features=256, out_features=256, bias=True)\n",
      "    (4): Linear(in_features=256, out_features=256, bias=True)\n",
      "    (5): Linear(in_features=256, out_features=256, bias=True)\n",
      "    (6): Linear(in_features=256, out_features=256, bias=True)\n",
      "    (7): Linear(in_features=256, out_features=256, bias=True)\n",
      "    (8): Linear(in_features=256, out_features=256, bias=True)\n",
      "    (9): Linear(in_features=256, out_features=256, bias=True)\n",
      "    (10): Linear(in_features=256, out_features=256, bias=True)\n",
      "    (11): Linear(in_features=256, out_features=256, bias=True)\n",
      "    (12): Linear(in_features=256, out_features=256, bias=True)\n",
      "    (13): Linear(in_features=256, out_features=256, bias=True)\n",
      "    (14): Linear(in_features=256, out_features=256, bias=True)\n",
      "    (15): Linear(in_features=256, out_features=256, bias=True)\n",
      "    (16): Linear(in_features=256, out_features=256, bias=True)\n",
      "    (17): Linear(in_features=256, out_features=256, bias=True)\n",
      "    (18): Linear(in_features=256, out_features=256, bias=True)\n",
      "  )\n",
      "  (fc_final): Linear(in_features=256, out_features=2, bias=True)\n",
      ")\n"
     ]
    }
   ],
   "source": [
    "class Net(nn.Module):\n",
    "\n",
    "    def __init__(self):\n",
    "        super(Net, self).__init__()\n",
    "        # 1 input image channel, 6 output channels, 5x5 square convolution\n",
    "        # kernel\n",
    "        self.conv1 = nn.Conv2d(1, 6, 5)\n",
    "        self.conv2 = nn.Conv2d(6, 49, 5)\n",
    "        # an affine operation: y = Wx + b\n",
    "        self.fc1 = nn.ModuleList([nn.Linear(784, 256)])\n",
    "        self.fc1.extend([nn.Linear(256, 256) for i in range(1, 19)])\n",
    "        self.fc_final = nn.Linear(256, 2)\n",
    "        #self.list = [nn.Linear(3, 4), nn.ReLU()]\n",
    "\n",
    "    def forward(self, x):\n",
    "        # Max pooling over a (2, 2) window\n",
    "        m = nn.LeakyReLU(0.5)\n",
    "        x = m(self.conv1(x))\n",
    "        x = F.max_pool2d(x, (2, 2))\n",
    "        x = m(self.conv2(x))\n",
    "        x = F.max_pool2d(x, 2)\n",
    "        x = torch.flatten(x, 1) # flatten all dimensions except the batch dimension\n",
    "        for fc1 in self.fc1:\n",
    "            x = m(fc1(x))\n",
    "        #x = self.fc1(x)\n",
    "        #x = m(self.fc1(x))\n",
    "        x = self.fc_final(x)\n",
    "        return x\n",
    "\n",
    "\n",
    "net = Net()\n",
    "print(net)"
   ]
  },
  {
   "cell_type": "code",
   "execution_count": 245,
   "id": "1b269696",
   "metadata": {},
   "outputs": [],
   "source": [
    "criterion = nn.CrossEntropyLoss()\n",
    "#optimizer = optim.SGD(LN1.parameters(), lr=0.01)"
   ]
  },
  {
   "cell_type": "code",
   "execution_count": 246,
   "id": "9ba56d0a",
   "metadata": {},
   "outputs": [],
   "source": [
    "def train(bs, lr1, num_epochs, train_dataset, model, cost, losses):\n",
    "    for epoch in range(num_epochs):\n",
    "        epoch_loss = 0\n",
    "        num = 0\n",
    "        h = []\n",
    "        train_loader = torch.utils.data.DataLoader(dataset = train_dataset,\n",
    "                                           batch_size = bs,\n",
    "                                           shuffle = True)\n",
    "        for i, (images, labels) in enumerate(train_loader):\n",
    "                outputs = model(images)\n",
    "                loss = cost(outputs, labels)\n",
    "                optimizer = optim.SGD(LN1.parameters(), lr1)\n",
    "            # Backward and optimize\n",
    "                optimizer.zero_grad()\n",
    "                loss.backward()\n",
    "                optimizer.step()\n",
    "                epoch_loss += loss\n",
    "                num += 1\n",
    "        \n",
    "        print ('Epoch [{}/{}], Loss: {:.4f}' \n",
    "                       .format(epoch+1, num_epochs, epoch_loss / num))\n",
    "        losses.append(epoch_loss / num)\n",
    "    #return losses"
   ]
  },
  {
   "cell_type": "code",
   "execution_count": 247,
   "id": "67c8183f",
   "metadata": {},
   "outputs": [],
   "source": [
    "epochs = []\n",
    "for i in range(num_epochs):\n",
    "    epochs.append(i)"
   ]
  },
  {
   "cell_type": "code",
   "execution_count": 248,
   "id": "a0c71df0",
   "metadata": {},
   "outputs": [
    {
     "name": "stdout",
     "output_type": "stream",
     "text": [
      "Epoch [1/10], Loss: 0.1012\n",
      "Epoch [2/10], Loss: 0.0093\n",
      "Epoch [3/10], Loss: 0.0065\n",
      "Epoch [4/10], Loss: 0.0052\n",
      "Epoch [5/10], Loss: 0.0045\n",
      "Epoch [6/10], Loss: 0.0039\n",
      "Epoch [7/10], Loss: 0.0035\n",
      "Epoch [8/10], Loss: 0.0031\n",
      "Epoch [9/10], Loss: 0.0028\n",
      "Epoch [10/10], Loss: 0.0026\n"
     ]
    }
   ],
   "source": [
    "LN1 = Net()\n",
    "def init_weights(m):\n",
    "    if isinstance(m, nn.Linear):\n",
    "        torch.nn.init.kaiming_normal_(m.weight, a = 0.5, nonlinearity='leaky_relu')\n",
    "LN1.apply(init_weights)\n",
    "losses = []\n",
    "train(64, 0.001, num_epochs, train_dataset2, LN1, criterion, losses)\n",
    "lw5 = torch.FloatTensor(losses)"
   ]
  },
  {
   "cell_type": "code",
   "execution_count": 249,
   "id": "09d376ca",
   "metadata": {},
   "outputs": [
    {
     "name": "stdout",
     "output_type": "stream",
     "text": [
      "Epoch [1/10], Loss: 0.6604\n",
      "Epoch [2/10], Loss: 0.6604\n",
      "Epoch [3/10], Loss: 0.6604\n",
      "Epoch [4/10], Loss: 0.6604\n",
      "Epoch [5/10], Loss: 0.6604\n",
      "Epoch [6/10], Loss: 0.6604\n",
      "Epoch [7/10], Loss: 0.6604\n",
      "Epoch [8/10], Loss: 0.6604\n",
      "Epoch [9/10], Loss: 0.6604\n",
      "Epoch [10/10], Loss: 0.6604\n"
     ]
    }
   ],
   "source": [
    "LN2 = Net()\n",
    "def init_weights(m):\n",
    "    if isinstance(m, nn.Linear):\n",
    "        torch.nn.init.normal_(m.weight, mean=0.0, std=np.sqrt(2/(1.5*256)))\n",
    "LN2.apply(init_weights)\n",
    "losses = []\n",
    "train(64, 0.001, num_epochs, train_dataset2, LN2, criterion, losses)\n",
    "lw21 = torch.FloatTensor(losses)"
   ]
  },
  {
   "cell_type": "code",
   "execution_count": 250,
   "id": "4176ff3d",
   "metadata": {},
   "outputs": [
    {
     "data": {
      "image/png": "[encoded data removed]",
      "text/plain": [
       "<Figure size 432x288 with 1 Axes>"
      ]
     },
     "metadata": {
      "needs_background": "light"
     },
     "output_type": "display_data"
    }
   ],
   "source": [
    "plt.plot(epochs, lw5, color='r', label='Kaiming')\n",
    "plt.plot(epochs, lw21, color='b', label='normal')\n",
    "plt.xlabel(\"Epoch\")\n",
    "plt.ylabel(\"Loss\")\n",
    "plt.title(\"Stochastic Gradient Descent with Batch_Size = 64, H = 20, lr = 0.001, alpha = 0.5\")\n",
    "plt.legend()\n",
    "plt.show()"
   ]
  },
  {
   "cell_type": "code",
   "execution_count": 251,
   "id": "7c4b2356",
   "metadata": {},
   "outputs": [
    {
     "name": "stdout",
     "output_type": "stream",
     "text": [
      "Net(\n",
      "  (conv1): Conv2d(1, 6, kernel_size=(5, 5), stride=(1, 1))\n",
      "  (conv2): Conv2d(6, 49, kernel_size=(5, 5), stride=(1, 1))\n",
      "  (fc1): ModuleList(\n",
      "    (0): Linear(in_features=784, out_features=256, bias=True)\n",
      "    (1): Linear(in_features=256, out_features=256, bias=True)\n",
      "    (2): Linear(in_features=256, out_features=256, bias=True)\n",
      "    (3): Linear(in_features=256, out_features=256, bias=True)\n",
      "    (4): Linear(in_features=256, out_features=256, bias=True)\n",
      "    (5): Linear(in_features=256, out_features=256, bias=True)\n",
      "    (6): Linear(in_features=256, out_features=256, bias=True)\n",
      "    (7): Linear(in_features=256, out_features=256, bias=True)\n",
      "    (8): Linear(in_features=256, out_features=256, bias=True)\n",
      "    (9): Linear(in_features=256, out_features=256, bias=True)\n",
      "    (10): Linear(in_features=256, out_features=256, bias=True)\n",
      "    (11): Linear(in_features=256, out_features=256, bias=True)\n",
      "    (12): Linear(in_features=256, out_features=256, bias=True)\n",
      "    (13): Linear(in_features=256, out_features=256, bias=True)\n",
      "    (14): Linear(in_features=256, out_features=256, bias=True)\n",
      "    (15): Linear(in_features=256, out_features=256, bias=True)\n",
      "    (16): Linear(in_features=256, out_features=256, bias=True)\n",
      "    (17): Linear(in_features=256, out_features=256, bias=True)\n",
      "    (18): Linear(in_features=256, out_features=256, bias=True)\n",
      "  )\n",
      "  (fc_final): Linear(in_features=256, out_features=2, bias=True)\n",
      ")\n"
     ]
    }
   ],
   "source": [
    "class Net(nn.Module):\n",
    "\n",
    "    def __init__(self):\n",
    "        super(Net, self).__init__()\n",
    "        # 1 input image channel, 6 output channels, 5x5 square convolution\n",
    "        # kernel\n",
    "        self.conv1 = nn.Conv2d(1, 6, 5)\n",
    "        self.conv2 = nn.Conv2d(6, 49, 5)\n",
    "        # an affine operation: y = Wx + b\n",
    "        self.fc1 = nn.ModuleList([nn.Linear(784, 256)])\n",
    "        self.fc1.extend([nn.Linear(256, 256) for i in range(1, 19)])\n",
    "        self.fc_final = nn.Linear(256, 2)\n",
    "        #self.list = [nn.Linear(3, 4), nn.ReLU()]\n",
    "\n",
    "    def forward(self, x):\n",
    "        # Max pooling over a (2, 2) window\n",
    "        m = nn.LeakyReLU(1.0)\n",
    "        x = m(self.conv1(x))\n",
    "        x = F.max_pool2d(x, (2, 2))\n",
    "        x = m(self.conv2(x))\n",
    "        x = F.max_pool2d(x, 2)\n",
    "        x = torch.flatten(x, 1) # flatten all dimensions except the batch dimension\n",
    "        for fc1 in self.fc1:\n",
    "            x = m(fc1(x))\n",
    "        #x = self.fc1(x)\n",
    "        #x = m(self.fc1(x))\n",
    "        x = self.fc_final(x)\n",
    "        return x\n",
    "\n",
    "\n",
    "net = Net()\n",
    "print(net)"
   ]
  },
  {
   "cell_type": "code",
   "execution_count": 252,
   "id": "b7e11492",
   "metadata": {},
   "outputs": [],
   "source": [
    "criterion = nn.CrossEntropyLoss()\n",
    "#optimizer = optim.SGD(LN1.parameters(), lr=0.01)"
   ]
  },
  {
   "cell_type": "code",
   "execution_count": 253,
   "id": "cae08e90",
   "metadata": {},
   "outputs": [],
   "source": [
    "def train(bs, lr1, num_epochs, train_dataset, model, cost, losses):\n",
    "    for epoch in range(num_epochs):\n",
    "        epoch_loss = 0\n",
    "        num = 0\n",
    "        h = []\n",
    "        train_loader = torch.utils.data.DataLoader(dataset = train_dataset,\n",
    "                                           batch_size = bs,\n",
    "                                           shuffle = True)\n",
    "        for i, (images, labels) in enumerate(train_loader):\n",
    "                outputs = model(images)\n",
    "                loss = cost(outputs, labels)\n",
    "                optimizer = optim.SGD(LN1.parameters(), lr1)\n",
    "            # Backward and optimize\n",
    "                optimizer.zero_grad()\n",
    "                loss.backward()\n",
    "                optimizer.step()\n",
    "                epoch_loss += loss\n",
    "                num += 1\n",
    "        \n",
    "        print ('Epoch [{}/{}], Loss: {:.4f}' \n",
    "                       .format(epoch+1, num_epochs, epoch_loss / num))\n",
    "        losses.append(epoch_loss / num)\n",
    "    #return losses"
   ]
  },
  {
   "cell_type": "code",
   "execution_count": 254,
   "id": "c6c46d07",
   "metadata": {},
   "outputs": [],
   "source": [
    "epochs = []\n",
    "for i in range(num_epochs):\n",
    "    epochs.append(i)"
   ]
  },
  {
   "cell_type": "code",
   "execution_count": 255,
   "id": "b92ec020",
   "metadata": {},
   "outputs": [
    {
     "name": "stdout",
     "output_type": "stream",
     "text": [
      "Epoch [1/10], Loss: 0.0452\n",
      "Epoch [2/10], Loss: 0.0081\n",
      "Epoch [3/10], Loss: 0.0062\n",
      "Epoch [4/10], Loss: 0.0050\n",
      "Epoch [5/10], Loss: 0.0043\n",
      "Epoch [6/10], Loss: 0.0039\n",
      "Epoch [7/10], Loss: 0.0035\n",
      "Epoch [8/10], Loss: 0.0033\n",
      "Epoch [9/10], Loss: 0.0030\n",
      "Epoch [10/10], Loss: 0.0029\n"
     ]
    }
   ],
   "source": [
    "LN1 = Net()\n",
    "def init_weights(m):\n",
    "    if isinstance(m, nn.Linear):\n",
    "        torch.nn.init.kaiming_normal_(m.weight, a = 1.0, nonlinearity='leaky_relu')\n",
    "LN1.apply(init_weights)\n",
    "losses = []\n",
    "train(64, 0.001, num_epochs, train_dataset2, LN1, criterion, losses)\n",
    "lw6 = torch.FloatTensor(losses)"
   ]
  },
  {
   "cell_type": "code",
   "execution_count": 256,
   "id": "ba5350ff",
   "metadata": {},
   "outputs": [
    {
     "name": "stdout",
     "output_type": "stream",
     "text": [
      "Epoch [1/10], Loss: 0.6923\n",
      "Epoch [2/10], Loss: 0.6923\n",
      "Epoch [3/10], Loss: 0.6923\n",
      "Epoch [4/10], Loss: 0.6923\n",
      "Epoch [5/10], Loss: 0.6923\n",
      "Epoch [6/10], Loss: 0.6923\n",
      "Epoch [7/10], Loss: 0.6923\n",
      "Epoch [8/10], Loss: 0.6923\n",
      "Epoch [9/10], Loss: 0.6923\n",
      "Epoch [10/10], Loss: 0.6923\n"
     ]
    }
   ],
   "source": [
    "LN2 = Net()\n",
    "def init_weights(m):\n",
    "    if isinstance(m, nn.Linear):\n",
    "        torch.nn.init.trunc_normal_(m.weight, mean=0.0, std=np.sqrt(2/(256*2.0)), a = -np.sqrt(2/(256*2.0)), b =np.sqrt(2/(256*2.0)) )\n",
    "LN2.apply(init_weights)\n",
    "losses = []\n",
    "train(64, 0.001, num_epochs, train_dataset2, LN2, criterion, losses)\n",
    "lw22 = torch.FloatTensor(losses)"
   ]
  },
  {
   "cell_type": "code",
   "execution_count": 257,
   "id": "6e1d1139",
   "metadata": {},
   "outputs": [
    {
     "data": {
      "image/png": "[encoded data removed]",
      "text/plain": [
       "<Figure size 432x288 with 1 Axes>"
      ]
     },
     "metadata": {
      "needs_background": "light"
     },
     "output_type": "display_data"
    }
   ],
   "source": [
    "plt.plot(epochs, lw6, color='r', label='Kaiming')\n",
    "plt.plot(epochs, lw22, color='b', label='normal')\n",
    "plt.xlabel(\"Epoch\")\n",
    "plt.ylabel(\"Loss\")\n",
    "plt.title(\"Stochastic Gradient Descent with Batch_Size = 64, H = 20, lr = 0.001, alpha = 1.0\")\n",
    "plt.legend()\n",
    "plt.show()"
   ]
  },
  {
   "cell_type": "code",
   "execution_count": 258,
   "id": "5e3a6d57",
   "metadata": {},
   "outputs": [
    {
     "name": "stdout",
     "output_type": "stream",
     "text": [
      "Net(\n",
      "  (conv1): Conv2d(1, 6, kernel_size=(5, 5), stride=(1, 1))\n",
      "  (conv2): Conv2d(6, 49, kernel_size=(5, 5), stride=(1, 1))\n",
      "  (fc1): ModuleList(\n",
      "    (0): Linear(in_features=784, out_features=256, bias=True)\n",
      "    (1): Linear(in_features=256, out_features=256, bias=True)\n",
      "    (2): Linear(in_features=256, out_features=256, bias=True)\n",
      "    (3): Linear(in_features=256, out_features=256, bias=True)\n",
      "    (4): Linear(in_features=256, out_features=256, bias=True)\n",
      "    (5): Linear(in_features=256, out_features=256, bias=True)\n",
      "    (6): Linear(in_features=256, out_features=256, bias=True)\n",
      "    (7): Linear(in_features=256, out_features=256, bias=True)\n",
      "    (8): Linear(in_features=256, out_features=256, bias=True)\n",
      "    (9): Linear(in_features=256, out_features=256, bias=True)\n",
      "    (10): Linear(in_features=256, out_features=256, bias=True)\n",
      "    (11): Linear(in_features=256, out_features=256, bias=True)\n",
      "    (12): Linear(in_features=256, out_features=256, bias=True)\n",
      "    (13): Linear(in_features=256, out_features=256, bias=True)\n",
      "    (14): Linear(in_features=256, out_features=256, bias=True)\n",
      "    (15): Linear(in_features=256, out_features=256, bias=True)\n",
      "    (16): Linear(in_features=256, out_features=256, bias=True)\n",
      "    (17): Linear(in_features=256, out_features=256, bias=True)\n",
      "    (18): Linear(in_features=256, out_features=256, bias=True)\n",
      "  )\n",
      "  (fc_final): Linear(in_features=256, out_features=2, bias=True)\n",
      ")\n"
     ]
    }
   ],
   "source": [
    "class Net(nn.Module):\n",
    "\n",
    "    def __init__(self):\n",
    "        super(Net, self).__init__()\n",
    "        # 1 input image channel, 6 output channels, 5x5 square convolution\n",
    "        # kernel\n",
    "        self.conv1 = nn.Conv2d(1, 6, 5)\n",
    "        self.conv2 = nn.Conv2d(6, 49, 5)\n",
    "        # an affine operation: y = Wx + b\n",
    "        self.fc1 = nn.ModuleList([nn.Linear(784, 256)])\n",
    "        self.fc1.extend([nn.Linear(256, 256) for i in range(1, 19)])\n",
    "        self.fc_final = nn.Linear(256, 2)\n",
    "        #self.list = [nn.Linear(3, 4), nn.ReLU()]\n",
    "\n",
    "    def forward(self, x):\n",
    "        # Max pooling over a (2, 2) window\n",
    "        m = nn.LeakyReLU(2.0)\n",
    "        x = m(self.conv1(x))\n",
    "        x = F.max_pool2d(x, (2, 2))\n",
    "        x = m(self.conv2(x))\n",
    "        x = F.max_pool2d(x, 2)\n",
    "        x = torch.flatten(x, 1) # flatten all dimensions except the batch dimension\n",
    "        for fc1 in self.fc1:\n",
    "            x = m(fc1(x))\n",
    "        #x = self.fc1(x)\n",
    "        #x = m(self.fc1(x))\n",
    "        x = self.fc_final(x)\n",
    "        return x\n",
    "\n",
    "\n",
    "net = Net()\n",
    "print(net)"
   ]
  },
  {
   "cell_type": "code",
   "execution_count": 259,
   "id": "93532511",
   "metadata": {},
   "outputs": [],
   "source": [
    "criterion = nn.CrossEntropyLoss()\n",
    "#optimizer = optim.SGD(LN1.parameters(), lr=0.01)"
   ]
  },
  {
   "cell_type": "code",
   "execution_count": 260,
   "id": "e5271680",
   "metadata": {},
   "outputs": [],
   "source": [
    "def train(bs, lr1, num_epochs, train_dataset, model, cost, losses):\n",
    "    for epoch in range(num_epochs):\n",
    "        epoch_loss = 0\n",
    "        num = 0\n",
    "        h = []\n",
    "        train_loader = torch.utils.data.DataLoader(dataset = train_dataset,\n",
    "                                           batch_size = bs,\n",
    "                                           shuffle = True)\n",
    "        for i, (images, labels) in enumerate(train_loader):\n",
    "                outputs = model(images)\n",
    "                loss = cost(outputs, labels)\n",
    "                optimizer = optim.SGD(LN1.parameters(), lr1)\n",
    "            # Backward and optimize\n",
    "                optimizer.zero_grad()\n",
    "                loss.backward()\n",
    "                optimizer.step()\n",
    "                epoch_loss += loss\n",
    "                num += 1\n",
    "        \n",
    "        print ('Epoch [{}/{}], Loss: {:.4f}' \n",
    "                       .format(epoch+1, num_epochs, epoch_loss / num))\n",
    "        losses.append(epoch_loss / num)\n",
    "    #return losses"
   ]
  },
  {
   "cell_type": "code",
   "execution_count": 261,
   "id": "228d7b51",
   "metadata": {},
   "outputs": [],
   "source": [
    "epochs = []\n",
    "for i in range(num_epochs):\n",
    "    epochs.append(i)"
   ]
  },
  {
   "cell_type": "code",
   "execution_count": 262,
   "id": "fc485c1f",
   "metadata": {},
   "outputs": [
    {
     "name": "stdout",
     "output_type": "stream",
     "text": [
      "Epoch [1/10], Loss: 0.0409\n",
      "Epoch [2/10], Loss: 0.0058\n",
      "Epoch [3/10], Loss: 0.0041\n",
      "Epoch [4/10], Loss: 0.0029\n",
      "Epoch [5/10], Loss: 0.0023\n",
      "Epoch [6/10], Loss: 0.0018\n",
      "Epoch [7/10], Loss: 0.0015\n",
      "Epoch [8/10], Loss: 0.0012\n",
      "Epoch [9/10], Loss: 0.0010\n",
      "Epoch [10/10], Loss: 0.0007\n"
     ]
    }
   ],
   "source": [
    "LN1 = Net()\n",
    "def init_weights(m):\n",
    "    if isinstance(m, nn.Linear):\n",
    "        torch.nn.init.kaiming_normal_(m.weight, a = 2.0, nonlinearity='leaky_relu')\n",
    "LN1.apply(init_weights)\n",
    "losses = []\n",
    "train(64, 0.001, num_epochs, train_dataset2, LN1, criterion, losses)\n",
    "lw7 = torch.FloatTensor(losses)"
   ]
  },
  {
   "cell_type": "code",
   "execution_count": 263,
   "id": "e7d1e045",
   "metadata": {},
   "outputs": [
    {
     "name": "stdout",
     "output_type": "stream",
     "text": [
      "Epoch [1/10], Loss: 0.6973\n",
      "Epoch [2/10], Loss: 0.6973\n",
      "Epoch [3/10], Loss: 0.6973\n",
      "Epoch [4/10], Loss: 0.6973\n",
      "Epoch [5/10], Loss: 0.6973\n",
      "Epoch [6/10], Loss: 0.6973\n",
      "Epoch [7/10], Loss: 0.6973\n",
      "Epoch [8/10], Loss: 0.6973\n",
      "Epoch [9/10], Loss: 0.6973\n",
      "Epoch [10/10], Loss: 0.6973\n"
     ]
    }
   ],
   "source": [
    "LN2 = Net()\n",
    "def init_weights(m):\n",
    "    if isinstance(m, nn.Linear):\n",
    "        torch.nn.init.trunc_normal_(m.weight, mean=0.0, std=np.sqrt(2/(256*3.0)), a = -np.sqrt(2/(256*3.0)), b =np.sqrt(2/(256*3.0)) )\n",
    "LN2.apply(init_weights)\n",
    "losses = []\n",
    "train(64, 0.001, num_epochs, train_dataset2, LN2, criterion, losses)\n",
    "lw23 = torch.FloatTensor(losses)"
   ]
  },
  {
   "cell_type": "code",
   "execution_count": 264,
   "id": "bc3142f1",
   "metadata": {},
   "outputs": [
    {
     "data": {
      "image/png": "[encoded data removed]",
      "text/plain": [
       "<Figure size 432x288 with 1 Axes>"
      ]
     },
     "metadata": {
      "needs_background": "light"
     },
     "output_type": "display_data"
    }
   ],
   "source": [
    "plt.plot(epochs, lw7, color='r', label='Kaiming')\n",
    "plt.plot(epochs, lw23, color='b', label='normal')\n",
    "plt.xlabel(\"Epoch\")\n",
    "plt.ylabel(\"Loss\")\n",
    "plt.title(\"Stochastic Gradient Descent with Batch_Size = 64, H = 20, lr = 0.001, alpha = 2.0\")\n",
    "plt.legend()\n",
    "plt.show()"
   ]
  },
  {
   "cell_type": "code",
   "execution_count": 265,
   "id": "3906cacc",
   "metadata": {},
   "outputs": [
    {
     "name": "stdout",
     "output_type": "stream",
     "text": [
      "Net(\n",
      "  (conv1): Conv2d(1, 6, kernel_size=(5, 5), stride=(1, 1))\n",
      "  (conv2): Conv2d(6, 49, kernel_size=(5, 5), stride=(1, 1))\n",
      "  (fc1): ModuleList(\n",
      "    (0): Linear(in_features=784, out_features=256, bias=True)\n",
      "    (1): Linear(in_features=256, out_features=256, bias=True)\n",
      "    (2): Linear(in_features=256, out_features=256, bias=True)\n",
      "    (3): Linear(in_features=256, out_features=256, bias=True)\n",
      "    (4): Linear(in_features=256, out_features=256, bias=True)\n",
      "    (5): Linear(in_features=256, out_features=256, bias=True)\n",
      "    (6): Linear(in_features=256, out_features=256, bias=True)\n",
      "    (7): Linear(in_features=256, out_features=256, bias=True)\n",
      "    (8): Linear(in_features=256, out_features=256, bias=True)\n",
      "    (9): Linear(in_features=256, out_features=256, bias=True)\n",
      "    (10): Linear(in_features=256, out_features=256, bias=True)\n",
      "    (11): Linear(in_features=256, out_features=256, bias=True)\n",
      "    (12): Linear(in_features=256, out_features=256, bias=True)\n",
      "    (13): Linear(in_features=256, out_features=256, bias=True)\n",
      "    (14): Linear(in_features=256, out_features=256, bias=True)\n",
      "    (15): Linear(in_features=256, out_features=256, bias=True)\n",
      "    (16): Linear(in_features=256, out_features=256, bias=True)\n",
      "    (17): Linear(in_features=256, out_features=256, bias=True)\n",
      "    (18): Linear(in_features=256, out_features=256, bias=True)\n",
      "    (19): Linear(in_features=256, out_features=256, bias=True)\n",
      "    (20): Linear(in_features=256, out_features=256, bias=True)\n",
      "    (21): Linear(in_features=256, out_features=256, bias=True)\n",
      "    (22): Linear(in_features=256, out_features=256, bias=True)\n",
      "    (23): Linear(in_features=256, out_features=256, bias=True)\n",
      "    (24): Linear(in_features=256, out_features=256, bias=True)\n",
      "    (25): Linear(in_features=256, out_features=256, bias=True)\n",
      "    (26): Linear(in_features=256, out_features=256, bias=True)\n",
      "    (27): Linear(in_features=256, out_features=256, bias=True)\n",
      "    (28): Linear(in_features=256, out_features=256, bias=True)\n",
      "  )\n",
      "  (fc_final): Linear(in_features=256, out_features=2, bias=True)\n",
      ")\n"
     ]
    }
   ],
   "source": [
    "class Net(nn.Module):\n",
    "\n",
    "    def __init__(self):\n",
    "        super(Net, self).__init__()\n",
    "        # 1 input image channel, 6 output channels, 5x5 square convolution\n",
    "        # kernel\n",
    "        self.conv1 = nn.Conv2d(1, 6, 5)\n",
    "        self.conv2 = nn.Conv2d(6, 49, 5)\n",
    "        # an affine operation: y = Wx + b\n",
    "        self.fc1 = nn.ModuleList([nn.Linear(784, 256)])\n",
    "        self.fc1.extend([nn.Linear(256, 256) for i in range(1, 29)])\n",
    "        self.fc_final = nn.Linear(256, 2)\n",
    "        #self.list = [nn.Linear(3, 4), nn.ReLU()]\n",
    "\n",
    "    def forward(self, x):\n",
    "        # Max pooling over a (2, 2) window\n",
    "        m = nn.LeakyReLU(0.1)\n",
    "        x = m(self.conv1(x))\n",
    "        x = F.max_pool2d(x, (2, 2))\n",
    "        x = m(self.conv2(x))\n",
    "        x = F.max_pool2d(x, 2)\n",
    "        x = torch.flatten(x, 1) # flatten all dimensions except the batch dimension\n",
    "        for fc1 in self.fc1:\n",
    "            x = m(fc1(x))\n",
    "        #x = self.fc1(x)\n",
    "        #x = m(self.fc1(x))\n",
    "        x = self.fc_final(x)\n",
    "        return x\n",
    "\n",
    "\n",
    "net = Net()\n",
    "print(net)"
   ]
  },
  {
   "cell_type": "code",
   "execution_count": 266,
   "id": "45e3f508",
   "metadata": {},
   "outputs": [],
   "source": [
    "criterion = nn.CrossEntropyLoss()\n",
    "#optimizer = optim.SGD(LN1.parameters(), lr=0.01)"
   ]
  },
  {
   "cell_type": "code",
   "execution_count": 267,
   "id": "42c820b3",
   "metadata": {},
   "outputs": [],
   "source": [
    "def train(bs, lr1, num_epochs, train_dataset, model, cost, losses):\n",
    "    for epoch in range(num_epochs):\n",
    "        epoch_loss = 0\n",
    "        num = 0\n",
    "        h = []\n",
    "        train_loader = torch.utils.data.DataLoader(dataset = train_dataset,\n",
    "                                           batch_size = bs,\n",
    "                                           shuffle = True)\n",
    "        for i, (images, labels) in enumerate(train_loader):\n",
    "                outputs = model(images)\n",
    "                loss = cost(outputs, labels)\n",
    "                optimizer = optim.SGD(LN1.parameters(), lr1)\n",
    "            # Backward and optimize\n",
    "                optimizer.zero_grad()\n",
    "                loss.backward()\n",
    "                optimizer.step()\n",
    "                epoch_loss += loss\n",
    "                num += 1\n",
    "        \n",
    "        print ('Epoch [{}/{}], Loss: {:.4f}' \n",
    "                       .format(epoch+1, num_epochs, epoch_loss / num))\n",
    "        losses.append(epoch_loss / num)\n",
    "    #return losses"
   ]
  },
  {
   "cell_type": "code",
   "execution_count": 268,
   "id": "f1426ca5",
   "metadata": {},
   "outputs": [],
   "source": [
    "epochs = []\n",
    "for i in range(num_epochs):\n",
    "    epochs.append(i)"
   ]
  },
  {
   "cell_type": "code",
   "execution_count": 269,
   "id": "935fdb55",
   "metadata": {},
   "outputs": [
    {
     "name": "stdout",
     "output_type": "stream",
     "text": [
      "Epoch [1/10], Loss: 0.1147\n",
      "Epoch [2/10], Loss: 0.0091\n",
      "Epoch [3/10], Loss: 0.0053\n",
      "Epoch [4/10], Loss: 0.0040\n",
      "Epoch [5/10], Loss: 0.0024\n",
      "Epoch [6/10], Loss: 0.0027\n",
      "Epoch [7/10], Loss: 0.0015\n",
      "Epoch [8/10], Loss: 0.0015\n",
      "Epoch [9/10], Loss: 0.0008\n",
      "Epoch [10/10], Loss: 0.0010\n"
     ]
    }
   ],
   "source": [
    "LN1 = Net()\n",
    "def init_weights(m):\n",
    "    if isinstance(m, nn.Linear):\n",
    "        torch.nn.init.kaiming_normal_(m.weight, a = 0.1, nonlinearity='leaky_relu')\n",
    "LN1.apply(init_weights)\n",
    "losses = []\n",
    "train(64, 0.001, num_epochs, train_dataset2, LN1, criterion, losses)\n",
    "lw8 = torch.FloatTensor(losses)"
   ]
  },
  {
   "cell_type": "code",
   "execution_count": 270,
   "id": "9e341b60",
   "metadata": {},
   "outputs": [
    {
     "name": "stdout",
     "output_type": "stream",
     "text": [
      "Epoch [1/10], Loss: 0.6880\n",
      "Epoch [2/10], Loss: 0.6880\n",
      "Epoch [3/10], Loss: 0.6880\n",
      "Epoch [4/10], Loss: 0.6880\n",
      "Epoch [5/10], Loss: 0.6880\n",
      "Epoch [6/10], Loss: 0.6880\n",
      "Epoch [7/10], Loss: 0.6880\n",
      "Epoch [8/10], Loss: 0.6880\n",
      "Epoch [9/10], Loss: 0.6880\n",
      "Epoch [10/10], Loss: 0.6880\n"
     ]
    }
   ],
   "source": [
    "LN2 = Net()\n",
    "def init_weights(m):\n",
    "    if isinstance(m, nn.Linear):\n",
    "        torch.nn.init.normal_(m.weight, mean=0.0, std=np.sqrt(2/(256*1.1)))\n",
    "LN2.apply(init_weights)\n",
    "losses = []\n",
    "train(64, 0.001, num_epochs, train_dataset2, LN2, criterion, losses)\n",
    "lw24 = torch.FloatTensor(losses)"
   ]
  },
  {
   "cell_type": "code",
   "execution_count": 271,
   "id": "92a4e92a",
   "metadata": {},
   "outputs": [
    {
     "data": {
      "image/png": "[encoded data removed]",
      "text/plain": [
       "<Figure size 432x288 with 1 Axes>"
      ]
     },
     "metadata": {
      "needs_background": "light"
     },
     "output_type": "display_data"
    }
   ],
   "source": [
    "plt.plot(epochs, lw8, color='r', label='Kaiming')\n",
    "plt.plot(epochs, lw24, color='b', label='normal')\n",
    "plt.xlabel(\"Epoch\")\n",
    "plt.ylabel(\"Loss\")\n",
    "plt.title(\"Stochastic Gradient Descent with Batch_Size = 64, H = 30, lr = 0.001, alpha = 0.1\")\n",
    "plt.legend()\n",
    "plt.show()"
   ]
  },
  {
   "cell_type": "code",
   "execution_count": 272,
   "id": "37b99471",
   "metadata": {},
   "outputs": [
    {
     "name": "stdout",
     "output_type": "stream",
     "text": [
      "Net(\n",
      "  (conv1): Conv2d(1, 6, kernel_size=(5, 5), stride=(1, 1))\n",
      "  (conv2): Conv2d(6, 49, kernel_size=(5, 5), stride=(1, 1))\n",
      "  (fc1): ModuleList(\n",
      "    (0): Linear(in_features=784, out_features=256, bias=True)\n",
      "    (1): Linear(in_features=256, out_features=256, bias=True)\n",
      "    (2): Linear(in_features=256, out_features=256, bias=True)\n",
      "    (3): Linear(in_features=256, out_features=256, bias=True)\n",
      "    (4): Linear(in_features=256, out_features=256, bias=True)\n",
      "    (5): Linear(in_features=256, out_features=256, bias=True)\n",
      "    (6): Linear(in_features=256, out_features=256, bias=True)\n",
      "    (7): Linear(in_features=256, out_features=256, bias=True)\n",
      "    (8): Linear(in_features=256, out_features=256, bias=True)\n",
      "    (9): Linear(in_features=256, out_features=256, bias=True)\n",
      "    (10): Linear(in_features=256, out_features=256, bias=True)\n",
      "    (11): Linear(in_features=256, out_features=256, bias=True)\n",
      "    (12): Linear(in_features=256, out_features=256, bias=True)\n",
      "    (13): Linear(in_features=256, out_features=256, bias=True)\n",
      "    (14): Linear(in_features=256, out_features=256, bias=True)\n",
      "    (15): Linear(in_features=256, out_features=256, bias=True)\n",
      "    (16): Linear(in_features=256, out_features=256, bias=True)\n",
      "    (17): Linear(in_features=256, out_features=256, bias=True)\n",
      "    (18): Linear(in_features=256, out_features=256, bias=True)\n",
      "    (19): Linear(in_features=256, out_features=256, bias=True)\n",
      "    (20): Linear(in_features=256, out_features=256, bias=True)\n",
      "    (21): Linear(in_features=256, out_features=256, bias=True)\n",
      "    (22): Linear(in_features=256, out_features=256, bias=True)\n",
      "    (23): Linear(in_features=256, out_features=256, bias=True)\n",
      "    (24): Linear(in_features=256, out_features=256, bias=True)\n",
      "    (25): Linear(in_features=256, out_features=256, bias=True)\n",
      "    (26): Linear(in_features=256, out_features=256, bias=True)\n",
      "    (27): Linear(in_features=256, out_features=256, bias=True)\n",
      "    (28): Linear(in_features=256, out_features=256, bias=True)\n",
      "  )\n",
      "  (fc_final): Linear(in_features=256, out_features=2, bias=True)\n",
      ")\n"
     ]
    }
   ],
   "source": [
    "class Net(nn.Module):\n",
    "\n",
    "    def __init__(self):\n",
    "        super(Net, self).__init__()\n",
    "        # 1 input image channel, 6 output channels, 5x5 square convolution\n",
    "        # kernel\n",
    "        self.conv1 = nn.Conv2d(1, 6, 5)\n",
    "        self.conv2 = nn.Conv2d(6, 49, 5)\n",
    "        # an affine operation: y = Wx + b\n",
    "        self.fc1 = nn.ModuleList([nn.Linear(784, 256)])\n",
    "        self.fc1.extend([nn.Linear(256, 256) for i in range(1, 29)])\n",
    "        self.fc_final = nn.Linear(256, 2)\n",
    "        #self.list = [nn.Linear(3, 4), nn.ReLU()]\n",
    "\n",
    "    def forward(self, x):\n",
    "        # Max pooling over a (2, 2) window\n",
    "        m = nn.LeakyReLU(0.5)\n",
    "        x = m(self.conv1(x))\n",
    "        x = F.max_pool2d(x, (2, 2))\n",
    "        x = m(self.conv2(x))\n",
    "        x = F.max_pool2d(x, 2)\n",
    "        x = torch.flatten(x, 1) # flatten all dimensions except the batch dimension\n",
    "        for fc1 in self.fc1:\n",
    "            x = m(fc1(x))\n",
    "        #x = self.fc1(x)\n",
    "        #x = m(self.fc1(x))\n",
    "        x = self.fc_final(x)\n",
    "        return x\n",
    "\n",
    "\n",
    "net = Net()\n",
    "print(net)"
   ]
  },
  {
   "cell_type": "code",
   "execution_count": 273,
   "id": "70776635",
   "metadata": {},
   "outputs": [],
   "source": [
    "criterion = nn.CrossEntropyLoss()\n",
    "#optimizer = optim.SGD(LN1.parameters(), lr=0.01)"
   ]
  },
  {
   "cell_type": "code",
   "execution_count": 274,
   "id": "5daafbd5",
   "metadata": {},
   "outputs": [],
   "source": [
    "def train(bs, lr1, num_epochs, train_dataset, model, cost, losses):\n",
    "    for epoch in range(num_epochs):\n",
    "        epoch_loss = 0\n",
    "        num = 0\n",
    "        h = []\n",
    "        train_loader = torch.utils.data.DataLoader(dataset = train_dataset,\n",
    "                                           batch_size = bs,\n",
    "                                           shuffle = True)\n",
    "        for i, (images, labels) in enumerate(train_loader):\n",
    "                outputs = model(images)\n",
    "                loss = cost(outputs, labels)\n",
    "                optimizer = optim.SGD(LN1.parameters(), lr1)\n",
    "            # Backward and optimize\n",
    "                optimizer.zero_grad()\n",
    "                loss.backward()\n",
    "                optimizer.step()\n",
    "                epoch_loss += loss\n",
    "                num += 1\n",
    "        \n",
    "        print ('Epoch [{}/{}], Loss: {:.4f}' \n",
    "                       .format(epoch+1, num_epochs, epoch_loss / num))\n",
    "        losses.append(epoch_loss / num)\n",
    "    #return losses"
   ]
  },
  {
   "cell_type": "code",
   "execution_count": 275,
   "id": "8503640a",
   "metadata": {},
   "outputs": [],
   "source": [
    "epochs = []\n",
    "for i in range(num_epochs):\n",
    "    epochs.append(i)"
   ]
  },
  {
   "cell_type": "code",
   "execution_count": 276,
   "id": "db53311d",
   "metadata": {},
   "outputs": [
    {
     "name": "stdout",
     "output_type": "stream",
     "text": [
      "Epoch [1/10], Loss: 0.0531\n",
      "Epoch [2/10], Loss: 0.0071\n",
      "Epoch [3/10], Loss: 0.0043\n",
      "Epoch [4/10], Loss: 0.0035\n",
      "Epoch [5/10], Loss: 0.0027\n",
      "Epoch [6/10], Loss: 0.0024\n",
      "Epoch [7/10], Loss: 0.0019\n",
      "Epoch [8/10], Loss: 0.0019\n",
      "Epoch [9/10], Loss: 0.0014\n",
      "Epoch [10/10], Loss: 0.0013\n"
     ]
    }
   ],
   "source": [
    "LN1 = Net()\n",
    "def init_weights(m):\n",
    "    if isinstance(m, nn.Linear):\n",
    "        torch.nn.init.kaiming_normal_(m.weight, a = 0.5, nonlinearity='leaky_relu')\n",
    "LN1.apply(init_weights)\n",
    "losses = []\n",
    "train(64, 0.001, num_epochs, train_dataset2, LN1, criterion, losses)\n",
    "lw9 = torch.FloatTensor(losses)"
   ]
  },
  {
   "cell_type": "code",
   "execution_count": 277,
   "id": "bfbc5b89",
   "metadata": {},
   "outputs": [
    {
     "name": "stdout",
     "output_type": "stream",
     "text": [
      "Epoch [1/10], Loss: 0.6961\n",
      "Epoch [2/10], Loss: 0.6961\n",
      "Epoch [3/10], Loss: 0.6961\n",
      "Epoch [4/10], Loss: 0.6961\n",
      "Epoch [5/10], Loss: 0.6961\n",
      "Epoch [6/10], Loss: 0.6961\n",
      "Epoch [7/10], Loss: 0.6961\n",
      "Epoch [8/10], Loss: 0.6961\n",
      "Epoch [9/10], Loss: 0.6961\n",
      "Epoch [10/10], Loss: 0.6961\n"
     ]
    }
   ],
   "source": [
    "LN2 = Net()\n",
    "def init_weights(m):\n",
    "    if isinstance(m, nn.Linear):\n",
    "        torch.nn.init.trunc_normal_(m.weight, mean=0.0, std=np.sqrt(2/(256*1.5)), a = -np.sqrt(2/(256*1.5)), b =np.sqrt(2/(256*1.5)) )\n",
    "LN2.apply(init_weights)\n",
    "losses = []\n",
    "train(64, 0.001, num_epochs, train_dataset2, LN2, criterion, losses)\n",
    "lw25 = torch.FloatTensor(losses)"
   ]
  },
  {
   "cell_type": "code",
   "execution_count": 278,
   "id": "336b1af2",
   "metadata": {},
   "outputs": [
    {
     "data": {
      "image/png": "[encoded data removed]",
      "text/plain": [
       "<Figure size 432x288 with 1 Axes>"
      ]
     },
     "metadata": {
      "needs_background": "light"
     },
     "output_type": "display_data"
    }
   ],
   "source": [
    "plt.plot(epochs, lw9, color='r', label='Kaiming')\n",
    "plt.plot(epochs, lw25, color='b', label='normal')\n",
    "plt.xlabel(\"Epoch\")\n",
    "plt.ylabel(\"Loss\")\n",
    "plt.title(\"Stochastic Gradient Descent with Batch_Size = 64, H = 30, lr = 0.001, alpha = 0.5\")\n",
    "plt.legend()\n",
    "plt.show()"
   ]
  },
  {
   "cell_type": "code",
   "execution_count": 279,
   "id": "8a124251",
   "metadata": {},
   "outputs": [
    {
     "name": "stdout",
     "output_type": "stream",
     "text": [
      "Net(\n",
      "  (conv1): Conv2d(1, 6, kernel_size=(5, 5), stride=(1, 1))\n",
      "  (conv2): Conv2d(6, 49, kernel_size=(5, 5), stride=(1, 1))\n",
      "  (fc1): ModuleList(\n",
      "    (0): Linear(in_features=784, out_features=256, bias=True)\n",
      "    (1): Linear(in_features=256, out_features=256, bias=True)\n",
      "    (2): Linear(in_features=256, out_features=256, bias=True)\n",
      "    (3): Linear(in_features=256, out_features=256, bias=True)\n",
      "    (4): Linear(in_features=256, out_features=256, bias=True)\n",
      "    (5): Linear(in_features=256, out_features=256, bias=True)\n",
      "    (6): Linear(in_features=256, out_features=256, bias=True)\n",
      "    (7): Linear(in_features=256, out_features=256, bias=True)\n",
      "    (8): Linear(in_features=256, out_features=256, bias=True)\n",
      "    (9): Linear(in_features=256, out_features=256, bias=True)\n",
      "    (10): Linear(in_features=256, out_features=256, bias=True)\n",
      "    (11): Linear(in_features=256, out_features=256, bias=True)\n",
      "    (12): Linear(in_features=256, out_features=256, bias=True)\n",
      "    (13): Linear(in_features=256, out_features=256, bias=True)\n",
      "    (14): Linear(in_features=256, out_features=256, bias=True)\n",
      "    (15): Linear(in_features=256, out_features=256, bias=True)\n",
      "    (16): Linear(in_features=256, out_features=256, bias=True)\n",
      "    (17): Linear(in_features=256, out_features=256, bias=True)\n",
      "    (18): Linear(in_features=256, out_features=256, bias=True)\n",
      "    (19): Linear(in_features=256, out_features=256, bias=True)\n",
      "    (20): Linear(in_features=256, out_features=256, bias=True)\n",
      "    (21): Linear(in_features=256, out_features=256, bias=True)\n",
      "    (22): Linear(in_features=256, out_features=256, bias=True)\n",
      "    (23): Linear(in_features=256, out_features=256, bias=True)\n",
      "    (24): Linear(in_features=256, out_features=256, bias=True)\n",
      "    (25): Linear(in_features=256, out_features=256, bias=True)\n",
      "    (26): Linear(in_features=256, out_features=256, bias=True)\n",
      "    (27): Linear(in_features=256, out_features=256, bias=True)\n",
      "    (28): Linear(in_features=256, out_features=256, bias=True)\n",
      "  )\n",
      "  (fc_final): Linear(in_features=256, out_features=2, bias=True)\n",
      ")\n"
     ]
    }
   ],
   "source": [
    "class Net(nn.Module):\n",
    "\n",
    "    def __init__(self):\n",
    "        super(Net, self).__init__()\n",
    "        # 1 input image channel, 6 output channels, 5x5 square convolution\n",
    "        # kernel\n",
    "        self.conv1 = nn.Conv2d(1, 6, 5)\n",
    "        self.conv2 = nn.Conv2d(6, 49, 5)\n",
    "        # an affine operation: y = Wx + b\n",
    "        self.fc1 = nn.ModuleList([nn.Linear(784, 256)])\n",
    "        self.fc1.extend([nn.Linear(256, 256) for i in range(1, 29)])\n",
    "        self.fc_final = nn.Linear(256, 2)\n",
    "        #self.list = [nn.Linear(3, 4), nn.ReLU()]\n",
    "\n",
    "    def forward(self, x):\n",
    "        # Max pooling over a (2, 2) window\n",
    "        m = nn.LeakyReLU(1.0)\n",
    "        x = m(self.conv1(x))\n",
    "        x = F.max_pool2d(x, (2, 2))\n",
    "        x = m(self.conv2(x))\n",
    "        x = F.max_pool2d(x, 2)\n",
    "        x = torch.flatten(x, 1) # flatten all dimensions except the batch dimension\n",
    "        for fc1 in self.fc1:\n",
    "            x = m(fc1(x))\n",
    "        #x = self.fc1(x)\n",
    "        #x = m(self.fc1(x))\n",
    "        x = self.fc_final(x)\n",
    "        return x\n",
    "\n",
    "\n",
    "net = Net()\n",
    "print(net)"
   ]
  },
  {
   "cell_type": "code",
   "execution_count": 280,
   "id": "53b93076",
   "metadata": {},
   "outputs": [],
   "source": [
    "criterion = nn.CrossEntropyLoss()\n",
    "#optimizer = optim.SGD(LN1.parameters(), lr=0.01)"
   ]
  },
  {
   "cell_type": "code",
   "execution_count": 281,
   "id": "115833b7",
   "metadata": {},
   "outputs": [],
   "source": [
    "def train(bs, lr1, num_epochs, train_dataset, model, cost, losses):\n",
    "    for epoch in range(num_epochs):\n",
    "        epoch_loss = 0\n",
    "        num = 0\n",
    "        h = []\n",
    "        train_loader = torch.utils.data.DataLoader(dataset = train_dataset,\n",
    "                                           batch_size = bs,\n",
    "                                           shuffle = True)\n",
    "        for i, (images, labels) in enumerate(train_loader):\n",
    "                outputs = model(images)\n",
    "                loss = cost(outputs, labels)\n",
    "                optimizer = optim.SGD(LN1.parameters(), lr1)\n",
    "            # Backward and optimize\n",
    "                optimizer.zero_grad()\n",
    "                loss.backward()\n",
    "                optimizer.step()\n",
    "                epoch_loss += loss\n",
    "                num += 1\n",
    "        \n",
    "        print ('Epoch [{}/{}], Loss: {:.4f}' \n",
    "                       .format(epoch+1, num_epochs, epoch_loss / num))\n",
    "        losses.append(epoch_loss / num)\n",
    "    #return losses"
   ]
  },
  {
   "cell_type": "code",
   "execution_count": 282,
   "id": "35f08b48",
   "metadata": {},
   "outputs": [],
   "source": [
    "epochs = []\n",
    "for i in range(num_epochs):\n",
    "    epochs.append(i)"
   ]
  },
  {
   "cell_type": "code",
   "execution_count": 283,
   "id": "49928685",
   "metadata": {},
   "outputs": [
    {
     "name": "stdout",
     "output_type": "stream",
     "text": [
      "Epoch [1/10], Loss: 0.0604\n",
      "Epoch [2/10], Loss: 0.0087\n",
      "Epoch [3/10], Loss: 0.0062\n",
      "Epoch [4/10], Loss: 0.0051\n",
      "Epoch [5/10], Loss: 0.0042\n",
      "Epoch [6/10], Loss: 0.0038\n",
      "Epoch [7/10], Loss: 0.0031\n",
      "Epoch [8/10], Loss: 0.0028\n",
      "Epoch [9/10], Loss: 0.0025\n",
      "Epoch [10/10], Loss: 0.0024\n"
     ]
    }
   ],
   "source": [
    "LN1 = Net()\n",
    "def init_weights(m):\n",
    "    if isinstance(m, nn.Linear):\n",
    "        torch.nn.init.kaiming_normal_(m.weight, a = 1.0, nonlinearity='leaky_relu')\n",
    "LN1.apply(init_weights)\n",
    "losses = []\n",
    "train(64, 0.001, num_epochs, train_dataset2, LN1, criterion, losses)\n",
    "lw10 = torch.FloatTensor(losses)"
   ]
  },
  {
   "cell_type": "code",
   "execution_count": 284,
   "id": "82a9c4d5",
   "metadata": {},
   "outputs": [
    {
     "name": "stdout",
     "output_type": "stream",
     "text": [
      "Epoch [1/10], Loss: 0.6915\n",
      "Epoch [2/10], Loss: 0.6915\n",
      "Epoch [3/10], Loss: 0.6915\n",
      "Epoch [4/10], Loss: 0.6915\n",
      "Epoch [5/10], Loss: 0.6915\n",
      "Epoch [6/10], Loss: 0.6915\n",
      "Epoch [7/10], Loss: 0.6915\n",
      "Epoch [8/10], Loss: 0.6915\n",
      "Epoch [9/10], Loss: 0.6915\n",
      "Epoch [10/10], Loss: 0.6915\n"
     ]
    }
   ],
   "source": [
    "LN2 = Net()\n",
    "def init_weights(m):\n",
    "    if isinstance(m, nn.Linear):\n",
    "        torch.nn.init.trunc_normal_(m.weight, mean=0.0, std=np.sqrt(2/(256*2.0)), a = -np.sqrt(2/(256*2.0)), b =np.sqrt(2/(256*2.0)) )\n",
    "LN2.apply(init_weights)\n",
    "losses = []\n",
    "train(64, 0.001, num_epochs, train_dataset2, LN2, criterion, losses)\n",
    "lw26 = torch.FloatTensor(losses)"
   ]
  },
  {
   "cell_type": "code",
   "execution_count": 285,
   "id": "ed9f6f24",
   "metadata": {},
   "outputs": [
    {
     "data": {
      "image/png": "[encoded data removed]",
      "text/plain": [
       "<Figure size 432x288 with 1 Axes>"
      ]
     },
     "metadata": {
      "needs_background": "light"
     },
     "output_type": "display_data"
    }
   ],
   "source": [
    "plt.plot(epochs, lw10, color='r', label='Kaiming')\n",
    "plt.plot(epochs, lw26, color='b', label='normal')\n",
    "plt.xlabel(\"Epoch\")\n",
    "plt.ylabel(\"Loss\")\n",
    "plt.title(\"Stochastic Gradient Descent with Batch_Size = 64, H = 30, lr = 0.001, alpha = 1.0\")\n",
    "plt.legend()\n",
    "plt.show()"
   ]
  },
  {
   "cell_type": "code",
   "execution_count": 286,
   "id": "f6d92fa9",
   "metadata": {},
   "outputs": [
    {
     "name": "stdout",
     "output_type": "stream",
     "text": [
      "Net(\n",
      "  (conv1): Conv2d(1, 6, kernel_size=(5, 5), stride=(1, 1))\n",
      "  (conv2): Conv2d(6, 49, kernel_size=(5, 5), stride=(1, 1))\n",
      "  (fc1): ModuleList(\n",
      "    (0): Linear(in_features=784, out_features=256, bias=True)\n",
      "    (1): Linear(in_features=256, out_features=256, bias=True)\n",
      "    (2): Linear(in_features=256, out_features=256, bias=True)\n",
      "    (3): Linear(in_features=256, out_features=256, bias=True)\n",
      "    (4): Linear(in_features=256, out_features=256, bias=True)\n",
      "    (5): Linear(in_features=256, out_features=256, bias=True)\n",
      "    (6): Linear(in_features=256, out_features=256, bias=True)\n",
      "    (7): Linear(in_features=256, out_features=256, bias=True)\n",
      "    (8): Linear(in_features=256, out_features=256, bias=True)\n",
      "    (9): Linear(in_features=256, out_features=256, bias=True)\n",
      "    (10): Linear(in_features=256, out_features=256, bias=True)\n",
      "    (11): Linear(in_features=256, out_features=256, bias=True)\n",
      "    (12): Linear(in_features=256, out_features=256, bias=True)\n",
      "    (13): Linear(in_features=256, out_features=256, bias=True)\n",
      "    (14): Linear(in_features=256, out_features=256, bias=True)\n",
      "    (15): Linear(in_features=256, out_features=256, bias=True)\n",
      "    (16): Linear(in_features=256, out_features=256, bias=True)\n",
      "    (17): Linear(in_features=256, out_features=256, bias=True)\n",
      "    (18): Linear(in_features=256, out_features=256, bias=True)\n",
      "    (19): Linear(in_features=256, out_features=256, bias=True)\n",
      "    (20): Linear(in_features=256, out_features=256, bias=True)\n",
      "    (21): Linear(in_features=256, out_features=256, bias=True)\n",
      "    (22): Linear(in_features=256, out_features=256, bias=True)\n",
      "    (23): Linear(in_features=256, out_features=256, bias=True)\n",
      "    (24): Linear(in_features=256, out_features=256, bias=True)\n",
      "    (25): Linear(in_features=256, out_features=256, bias=True)\n",
      "    (26): Linear(in_features=256, out_features=256, bias=True)\n",
      "    (27): Linear(in_features=256, out_features=256, bias=True)\n",
      "    (28): Linear(in_features=256, out_features=256, bias=True)\n",
      "  )\n",
      "  (fc_final): Linear(in_features=256, out_features=2, bias=True)\n",
      ")\n"
     ]
    }
   ],
   "source": [
    "class Net(nn.Module):\n",
    "\n",
    "    def __init__(self):\n",
    "        super(Net, self).__init__()\n",
    "        # 1 input image channel, 6 output channels, 5x5 square convolution\n",
    "        # kernel\n",
    "        self.conv1 = nn.Conv2d(1, 6, 5)\n",
    "        self.conv2 = nn.Conv2d(6, 49, 5)\n",
    "        # an affine operation: y = Wx + b\n",
    "        self.fc1 = nn.ModuleList([nn.Linear(784, 256)])\n",
    "        self.fc1.extend([nn.Linear(256, 256) for i in range(1, 29)])\n",
    "        self.fc_final = nn.Linear(256, 2)\n",
    "        #self.list = [nn.Linear(3, 4), nn.ReLU()]\n",
    "\n",
    "    def forward(self, x):\n",
    "        # Max pooling over a (2, 2) window\n",
    "        m = nn.LeakyReLU(2.0)\n",
    "        x = m(self.conv1(x))\n",
    "        x = F.max_pool2d(x, (2, 2))\n",
    "        x = m(self.conv2(x))\n",
    "        x = F.max_pool2d(x, 2)\n",
    "        x = torch.flatten(x, 1) # flatten all dimensions except the batch dimension\n",
    "        for fc1 in self.fc1:\n",
    "            x = m(fc1(x))\n",
    "        #x = self.fc1(x)\n",
    "        #x = m(self.fc1(x))\n",
    "        x = self.fc_final(x)\n",
    "        return x\n",
    "\n",
    "\n",
    "net = Net()\n",
    "print(net)"
   ]
  },
  {
   "cell_type": "code",
   "execution_count": 287,
   "id": "68371662",
   "metadata": {},
   "outputs": [],
   "source": [
    "criterion = nn.CrossEntropyLoss()\n",
    "#optimizer = optim.SGD(LN1.parameters(), lr=0.01)"
   ]
  },
  {
   "cell_type": "code",
   "execution_count": 288,
   "id": "5a1a0566",
   "metadata": {},
   "outputs": [],
   "source": [
    "def train(bs, lr1, num_epochs, train_dataset, model, cost, losses):\n",
    "    for epoch in range(num_epochs):\n",
    "        epoch_loss = 0\n",
    "        num = 0\n",
    "        h = []\n",
    "        train_loader = torch.utils.data.DataLoader(dataset = train_dataset,\n",
    "                                           batch_size = bs,\n",
    "                                           shuffle = True)\n",
    "        for i, (images, labels) in enumerate(train_loader):\n",
    "                outputs = model(images)\n",
    "                loss = cost(outputs, labels)\n",
    "                optimizer = optim.SGD(LN1.parameters(), lr1)\n",
    "            # Backward and optimize\n",
    "                optimizer.zero_grad()\n",
    "                loss.backward()\n",
    "                optimizer.step()\n",
    "                epoch_loss += loss\n",
    "                num += 1\n",
    "        \n",
    "        print ('Epoch [{}/{}], Loss: {:.4f}' \n",
    "                       .format(epoch+1, num_epochs, epoch_loss / num))\n",
    "        losses.append(epoch_loss / num)\n",
    "    #return losses"
   ]
  },
  {
   "cell_type": "code",
   "execution_count": 289,
   "id": "bbbce6b6",
   "metadata": {},
   "outputs": [],
   "source": [
    "epochs = []\n",
    "for i in range(num_epochs):\n",
    "    epochs.append(i)"
   ]
  },
  {
   "cell_type": "code",
   "execution_count": 290,
   "id": "d1af6f42",
   "metadata": {},
   "outputs": [
    {
     "name": "stdout",
     "output_type": "stream",
     "text": [
      "Epoch [1/10], Loss: 0.0251\n",
      "Epoch [2/10], Loss: 0.0045\n",
      "Epoch [3/10], Loss: 0.0027\n",
      "Epoch [4/10], Loss: 0.0015\n",
      "Epoch [5/10], Loss: 0.0010\n",
      "Epoch [6/10], Loss: 0.0007\n",
      "Epoch [7/10], Loss: 0.0003\n",
      "Epoch [8/10], Loss: 0.0003\n",
      "Epoch [9/10], Loss: 0.0002\n",
      "Epoch [10/10], Loss: 0.0001\n"
     ]
    }
   ],
   "source": [
    "LN1 = Net()\n",
    "def init_weights(m):\n",
    "    if isinstance(m, nn.Linear):\n",
    "        torch.nn.init.kaiming_normal_(m.weight, a = 2.0, nonlinearity='leaky_relu')\n",
    "LN1.apply(init_weights)\n",
    "losses = []\n",
    "train(64, 0.001, num_epochs, train_dataset2, LN1, criterion, losses)\n",
    "lw11 = torch.FloatTensor(losses)"
   ]
  },
  {
   "cell_type": "code",
   "execution_count": 291,
   "id": "1f5cbf49",
   "metadata": {},
   "outputs": [
    {
     "name": "stdout",
     "output_type": "stream",
     "text": [
      "Epoch [1/10], Loss: 0.6955\n",
      "Epoch [2/10], Loss: 0.6955\n",
      "Epoch [3/10], Loss: 0.6955\n",
      "Epoch [4/10], Loss: 0.6955\n",
      "Epoch [5/10], Loss: 0.6955\n",
      "Epoch [6/10], Loss: 0.6955\n",
      "Epoch [7/10], Loss: 0.6955\n",
      "Epoch [8/10], Loss: 0.6955\n",
      "Epoch [9/10], Loss: 0.6955\n",
      "Epoch [10/10], Loss: 0.6955\n"
     ]
    }
   ],
   "source": [
    "LN2 = Net()\n",
    "def init_weights(m):\n",
    "    if isinstance(m, nn.Linear):\n",
    "        torch.nn.init.trunc_normal_(m.weight, mean=0.0, std=np.sqrt(2/(256*3.0)), a = -np.sqrt(2/(256*3.0)), b =np.sqrt(2/(256*3.0)) )\n",
    "LN2.apply(init_weights)\n",
    "losses = []\n",
    "train(64, 0.001, num_epochs, train_dataset2, LN2, criterion, losses)\n",
    "lw27 = torch.FloatTensor(losses)"
   ]
  },
  {
   "cell_type": "code",
   "execution_count": 292,
   "id": "248b2f99",
   "metadata": {},
   "outputs": [
    {
     "data": {
      "image/png": "[encoded data removed]",
      "text/plain": [
       "<Figure size 432x288 with 1 Axes>"
      ]
     },
     "metadata": {
      "needs_background": "light"
     },
     "output_type": "display_data"
    }
   ],
   "source": [
    "plt.plot(epochs, lw11, color='r', label='Kaiming')\n",
    "plt.plot(epochs, lw27, color='b', label='normal')\n",
    "plt.xlabel(\"Epoch\")\n",
    "plt.ylabel(\"Loss\")\n",
    "plt.title(\"Stochastic Gradient Descent with Batch_Size = 64, H = 30, lr = 0.001, alpha = 2.0\")\n",
    "plt.legend()\n",
    "plt.show()"
   ]
  },
  {
   "cell_type": "code",
   "execution_count": 293,
   "id": "132f6f99",
   "metadata": {},
   "outputs": [
    {
     "name": "stdout",
     "output_type": "stream",
     "text": [
      "Net(\n",
      "  (conv1): Conv2d(1, 6, kernel_size=(5, 5), stride=(1, 1))\n",
      "  (conv2): Conv2d(6, 49, kernel_size=(5, 5), stride=(1, 1))\n",
      "  (fc1): ModuleList(\n",
      "    (0): Linear(in_features=784, out_features=256, bias=True)\n",
      "    (1): Linear(in_features=256, out_features=256, bias=True)\n",
      "    (2): Linear(in_features=256, out_features=256, bias=True)\n",
      "    (3): Linear(in_features=256, out_features=256, bias=True)\n",
      "    (4): Linear(in_features=256, out_features=256, bias=True)\n",
      "    (5): Linear(in_features=256, out_features=256, bias=True)\n",
      "    (6): Linear(in_features=256, out_features=256, bias=True)\n",
      "    (7): Linear(in_features=256, out_features=256, bias=True)\n",
      "    (8): Linear(in_features=256, out_features=256, bias=True)\n",
      "    (9): Linear(in_features=256, out_features=256, bias=True)\n",
      "    (10): Linear(in_features=256, out_features=256, bias=True)\n",
      "    (11): Linear(in_features=256, out_features=256, bias=True)\n",
      "    (12): Linear(in_features=256, out_features=256, bias=True)\n",
      "    (13): Linear(in_features=256, out_features=256, bias=True)\n",
      "    (14): Linear(in_features=256, out_features=256, bias=True)\n",
      "    (15): Linear(in_features=256, out_features=256, bias=True)\n",
      "    (16): Linear(in_features=256, out_features=256, bias=True)\n",
      "    (17): Linear(in_features=256, out_features=256, bias=True)\n",
      "    (18): Linear(in_features=256, out_features=256, bias=True)\n",
      "    (19): Linear(in_features=256, out_features=256, bias=True)\n",
      "    (20): Linear(in_features=256, out_features=256, bias=True)\n",
      "    (21): Linear(in_features=256, out_features=256, bias=True)\n",
      "    (22): Linear(in_features=256, out_features=256, bias=True)\n",
      "    (23): Linear(in_features=256, out_features=256, bias=True)\n",
      "    (24): Linear(in_features=256, out_features=256, bias=True)\n",
      "    (25): Linear(in_features=256, out_features=256, bias=True)\n",
      "    (26): Linear(in_features=256, out_features=256, bias=True)\n",
      "    (27): Linear(in_features=256, out_features=256, bias=True)\n",
      "    (28): Linear(in_features=256, out_features=256, bias=True)\n",
      "    (29): Linear(in_features=256, out_features=256, bias=True)\n",
      "    (30): Linear(in_features=256, out_features=256, bias=True)\n",
      "    (31): Linear(in_features=256, out_features=256, bias=True)\n",
      "    (32): Linear(in_features=256, out_features=256, bias=True)\n",
      "    (33): Linear(in_features=256, out_features=256, bias=True)\n",
      "    (34): Linear(in_features=256, out_features=256, bias=True)\n",
      "    (35): Linear(in_features=256, out_features=256, bias=True)\n",
      "    (36): Linear(in_features=256, out_features=256, bias=True)\n",
      "    (37): Linear(in_features=256, out_features=256, bias=True)\n",
      "    (38): Linear(in_features=256, out_features=256, bias=True)\n",
      "  )\n",
      "  (fc_final): Linear(in_features=256, out_features=2, bias=True)\n",
      ")\n"
     ]
    }
   ],
   "source": [
    "class Net(nn.Module):\n",
    "\n",
    "    def __init__(self):\n",
    "        super(Net, self).__init__()\n",
    "        # 1 input image channel, 6 output channels, 5x5 square convolution\n",
    "        # kernel\n",
    "        self.conv1 = nn.Conv2d(1, 6, 5)\n",
    "        self.conv2 = nn.Conv2d(6, 49, 5)\n",
    "        # an affine operation: y = Wx + b\n",
    "        self.fc1 = nn.ModuleList([nn.Linear(784, 256)])\n",
    "        self.fc1.extend([nn.Linear(256, 256) for i in range(1, 39)])\n",
    "        self.fc_final = nn.Linear(256, 2)\n",
    "        #self.list = [nn.Linear(3, 4), nn.ReLU()]\n",
    "\n",
    "    def forward(self, x):\n",
    "        # Max pooling over a (2, 2) window\n",
    "        m = nn.LeakyReLU(0.1)\n",
    "        x = m(self.conv1(x))\n",
    "        x = F.max_pool2d(x, (2, 2))\n",
    "        x = m(self.conv2(x))\n",
    "        x = F.max_pool2d(x, 2)\n",
    "        x = torch.flatten(x, 1) # flatten all dimensions except the batch dimension\n",
    "        for fc1 in self.fc1:\n",
    "            x = m(fc1(x))\n",
    "        #x = self.fc1(x)\n",
    "        #x = m(self.fc1(x))\n",
    "        x = self.fc_final(x)\n",
    "        return x\n",
    "\n",
    "\n",
    "net = Net()\n",
    "print(net)"
   ]
  },
  {
   "cell_type": "code",
   "execution_count": 294,
   "id": "d70ea368",
   "metadata": {},
   "outputs": [],
   "source": [
    "criterion = nn.CrossEntropyLoss()\n",
    "#optimizer = optim.SGD(LN1.parameters(), lr=0.01)"
   ]
  },
  {
   "cell_type": "code",
   "execution_count": 295,
   "id": "f4b85683",
   "metadata": {},
   "outputs": [],
   "source": [
    "def train(bs, lr1, num_epochs, train_dataset, model, cost, losses):\n",
    "    for epoch in range(num_epochs):\n",
    "        epoch_loss = 0\n",
    "        num = 0\n",
    "        h = []\n",
    "        train_loader = torch.utils.data.DataLoader(dataset = train_dataset,\n",
    "                                           batch_size = bs,\n",
    "                                           shuffle = True)\n",
    "        for i, (images, labels) in enumerate(train_loader):\n",
    "                outputs = model(images)\n",
    "                loss = cost(outputs, labels)\n",
    "                optimizer = optim.SGD(LN1.parameters(), lr1)\n",
    "            # Backward and optimize\n",
    "                optimizer.zero_grad()\n",
    "                loss.backward()\n",
    "                optimizer.step()\n",
    "                epoch_loss += loss\n",
    "                num += 1\n",
    "        \n",
    "        print ('Epoch [{}/{}], Loss: {:.4f}' \n",
    "                       .format(epoch+1, num_epochs, epoch_loss / num))\n",
    "        losses.append(epoch_loss / num)\n",
    "    #return losses"
   ]
  },
  {
   "cell_type": "code",
   "execution_count": 296,
   "id": "b399d92a",
   "metadata": {},
   "outputs": [],
   "source": [
    "epochs = []\n",
    "for i in range(num_epochs):\n",
    "    epochs.append(i)"
   ]
  },
  {
   "cell_type": "code",
   "execution_count": 297,
   "id": "ce0a54f2",
   "metadata": {},
   "outputs": [
    {
     "name": "stdout",
     "output_type": "stream",
     "text": [
      "Epoch [1/10], Loss: 0.1972\n",
      "Epoch [2/10], Loss: 0.0201\n",
      "Epoch [3/10], Loss: 0.0949\n",
      "Epoch [4/10], Loss: 0.0715\n",
      "Epoch [5/10], Loss: 0.0055\n",
      "Epoch [6/10], Loss: 0.0035\n",
      "Epoch [7/10], Loss: 0.0024\n",
      "Epoch [8/10], Loss: 0.0012\n",
      "Epoch [9/10], Loss: 0.0011\n",
      "Epoch [10/10], Loss: 0.0014\n"
     ]
    }
   ],
   "source": [
    "LN1 = Net()\n",
    "def init_weights(m):\n",
    "    if isinstance(m, nn.Linear):\n",
    "        torch.nn.init.kaiming_normal_(m.weight, a = 0.1, nonlinearity='leaky_relu')\n",
    "LN1.apply(init_weights)\n",
    "losses = []\n",
    "train(64, 0.001, num_epochs, train_dataset2, LN1, criterion, losses)\n",
    "lw12 = torch.FloatTensor(losses)"
   ]
  },
  {
   "cell_type": "code",
   "execution_count": 298,
   "id": "4bdbdb0d",
   "metadata": {},
   "outputs": [
    {
     "name": "stdout",
     "output_type": "stream",
     "text": [
      "Epoch [1/10], Loss: 0.6807\n",
      "Epoch [2/10], Loss: 0.6807\n",
      "Epoch [3/10], Loss: 0.6807\n",
      "Epoch [4/10], Loss: 0.6808\n",
      "Epoch [5/10], Loss: 0.6808\n",
      "Epoch [6/10], Loss: 0.6807\n",
      "Epoch [7/10], Loss: 0.6807\n",
      "Epoch [8/10], Loss: 0.6807\n",
      "Epoch [9/10], Loss: 0.6807\n",
      "Epoch [10/10], Loss: 0.6807\n"
     ]
    }
   ],
   "source": [
    "LN2 = Net()\n",
    "def init_weights(m):\n",
    "    if isinstance(m, nn.Linear):\n",
    "        torch.nn.init.normal_(m.weight, mean=0.0, std=np.sqrt(2/(256*1.1)))\n",
    "LN2.apply(init_weights)\n",
    "losses = []\n",
    "train(64, 0.001, num_epochs, train_dataset2, LN2, criterion, losses)\n",
    "lw28 = torch.FloatTensor(losses)"
   ]
  },
  {
   "cell_type": "code",
   "execution_count": 299,
   "id": "74dcc78d",
   "metadata": {},
   "outputs": [
    {
     "data": {
      "image/png": "[encoded data removed]",
      "text/plain": [
       "<Figure size 432x288 with 1 Axes>"
      ]
     },
     "metadata": {
      "needs_background": "light"
     },
     "output_type": "display_data"
    }
   ],
   "source": [
    "plt.plot(epochs, lw12, color='r', label='Kaiming')\n",
    "plt.plot(epochs, lw28, color='b', label='normal')\n",
    "plt.xlabel(\"Epoch\")\n",
    "plt.ylabel(\"Loss\")\n",
    "plt.title(\"Stochastic Gradient Descent with Batch_Size = 64, H = 40, lr = 0.001, alpha = 0.1\")\n",
    "plt.legend()\n",
    "plt.show()"
   ]
  },
  {
   "cell_type": "code",
   "execution_count": 300,
   "id": "1bf51c32",
   "metadata": {},
   "outputs": [
    {
     "name": "stdout",
     "output_type": "stream",
     "text": [
      "Net(\n",
      "  (conv1): Conv2d(1, 6, kernel_size=(5, 5), stride=(1, 1))\n",
      "  (conv2): Conv2d(6, 49, kernel_size=(5, 5), stride=(1, 1))\n",
      "  (fc1): ModuleList(\n",
      "    (0): Linear(in_features=784, out_features=256, bias=True)\n",
      "    (1): Linear(in_features=256, out_features=256, bias=True)\n",
      "    (2): Linear(in_features=256, out_features=256, bias=True)\n",
      "    (3): Linear(in_features=256, out_features=256, bias=True)\n",
      "    (4): Linear(in_features=256, out_features=256, bias=True)\n",
      "    (5): Linear(in_features=256, out_features=256, bias=True)\n",
      "    (6): Linear(in_features=256, out_features=256, bias=True)\n",
      "    (7): Linear(in_features=256, out_features=256, bias=True)\n",
      "    (8): Linear(in_features=256, out_features=256, bias=True)\n",
      "    (9): Linear(in_features=256, out_features=256, bias=True)\n",
      "    (10): Linear(in_features=256, out_features=256, bias=True)\n",
      "    (11): Linear(in_features=256, out_features=256, bias=True)\n",
      "    (12): Linear(in_features=256, out_features=256, bias=True)\n",
      "    (13): Linear(in_features=256, out_features=256, bias=True)\n",
      "    (14): Linear(in_features=256, out_features=256, bias=True)\n",
      "    (15): Linear(in_features=256, out_features=256, bias=True)\n",
      "    (16): Linear(in_features=256, out_features=256, bias=True)\n",
      "    (17): Linear(in_features=256, out_features=256, bias=True)\n",
      "    (18): Linear(in_features=256, out_features=256, bias=True)\n",
      "    (19): Linear(in_features=256, out_features=256, bias=True)\n",
      "    (20): Linear(in_features=256, out_features=256, bias=True)\n",
      "    (21): Linear(in_features=256, out_features=256, bias=True)\n",
      "    (22): Linear(in_features=256, out_features=256, bias=True)\n",
      "    (23): Linear(in_features=256, out_features=256, bias=True)\n",
      "    (24): Linear(in_features=256, out_features=256, bias=True)\n",
      "    (25): Linear(in_features=256, out_features=256, bias=True)\n",
      "    (26): Linear(in_features=256, out_features=256, bias=True)\n",
      "    (27): Linear(in_features=256, out_features=256, bias=True)\n",
      "    (28): Linear(in_features=256, out_features=256, bias=True)\n",
      "    (29): Linear(in_features=256, out_features=256, bias=True)\n",
      "    (30): Linear(in_features=256, out_features=256, bias=True)\n",
      "    (31): Linear(in_features=256, out_features=256, bias=True)\n",
      "    (32): Linear(in_features=256, out_features=256, bias=True)\n",
      "    (33): Linear(in_features=256, out_features=256, bias=True)\n",
      "    (34): Linear(in_features=256, out_features=256, bias=True)\n",
      "    (35): Linear(in_features=256, out_features=256, bias=True)\n",
      "    (36): Linear(in_features=256, out_features=256, bias=True)\n",
      "    (37): Linear(in_features=256, out_features=256, bias=True)\n",
      "    (38): Linear(in_features=256, out_features=256, bias=True)\n",
      "  )\n",
      "  (fc_final): Linear(in_features=256, out_features=2, bias=True)\n",
      ")\n"
     ]
    }
   ],
   "source": [
    "class Net(nn.Module):\n",
    "\n",
    "    def __init__(self):\n",
    "        super(Net, self).__init__()\n",
    "        # 1 input image channel, 6 output channels, 5x5 square convolution\n",
    "        # kernel\n",
    "        self.conv1 = nn.Conv2d(1, 6, 5)\n",
    "        self.conv2 = nn.Conv2d(6, 49, 5)\n",
    "        # an affine operation: y = Wx + b\n",
    "        self.fc1 = nn.ModuleList([nn.Linear(784, 256)])\n",
    "        self.fc1.extend([nn.Linear(256, 256) for i in range(1, 39)])\n",
    "        self.fc_final = nn.Linear(256, 2)\n",
    "        #self.list = [nn.Linear(3, 4), nn.ReLU()]\n",
    "\n",
    "    def forward(self, x):\n",
    "        # Max pooling over a (2, 2) window\n",
    "        m = nn.LeakyReLU(0.5)\n",
    "        x = m(self.conv1(x))\n",
    "        x = F.max_pool2d(x, (2, 2))\n",
    "        x = m(self.conv2(x))\n",
    "        x = F.max_pool2d(x, 2)\n",
    "        x = torch.flatten(x, 1) # flatten all dimensions except the batch dimension\n",
    "        for fc1 in self.fc1:\n",
    "            x = m(fc1(x))\n",
    "        #x = self.fc1(x)\n",
    "        #x = m(self.fc1(x))\n",
    "        x = self.fc_final(x)\n",
    "        return x\n",
    "\n",
    "\n",
    "net = Net()\n",
    "print(net)"
   ]
  },
  {
   "cell_type": "code",
   "execution_count": 301,
   "id": "6174a139",
   "metadata": {},
   "outputs": [],
   "source": [
    "criterion = nn.CrossEntropyLoss()\n",
    "#optimizer = optim.SGD(LN1.parameters(), lr=0.01)"
   ]
  },
  {
   "cell_type": "code",
   "execution_count": 302,
   "id": "e5b695e6",
   "metadata": {},
   "outputs": [],
   "source": [
    "def train(bs, lr1, num_epochs, train_dataset, model, cost, losses):\n",
    "    for epoch in range(num_epochs):\n",
    "        epoch_loss = 0\n",
    "        num = 0\n",
    "        h = []\n",
    "        train_loader = torch.utils.data.DataLoader(dataset = train_dataset,\n",
    "                                           batch_size = bs,\n",
    "                                           shuffle = True)\n",
    "        for i, (images, labels) in enumerate(train_loader):\n",
    "                outputs = model(images)\n",
    "                loss = cost(outputs, labels)\n",
    "                optimizer = optim.SGD(LN1.parameters(), lr1)\n",
    "            # Backward and optimize\n",
    "                optimizer.zero_grad()\n",
    "                loss.backward()\n",
    "                optimizer.step()\n",
    "                epoch_loss += loss\n",
    "                num += 1\n",
    "        \n",
    "        print ('Epoch [{}/{}], Loss: {:.4f}' \n",
    "                       .format(epoch+1, num_epochs, epoch_loss / num))\n",
    "        losses.append(epoch_loss / num)\n",
    "    #return losses"
   ]
  },
  {
   "cell_type": "code",
   "execution_count": 303,
   "id": "7291a3f4",
   "metadata": {},
   "outputs": [],
   "source": [
    "epochs = []\n",
    "for i in range(num_epochs):\n",
    "    epochs.append(i)"
   ]
  },
  {
   "cell_type": "code",
   "execution_count": 304,
   "id": "738f78af",
   "metadata": {},
   "outputs": [
    {
     "name": "stdout",
     "output_type": "stream",
     "text": [
      "Epoch [1/10], Loss: 0.0297\n",
      "Epoch [2/10], Loss: 0.0055\n",
      "Epoch [3/10], Loss: 0.0036\n",
      "Epoch [4/10], Loss: 0.0029\n",
      "Epoch [5/10], Loss: 0.0021\n",
      "Epoch [6/10], Loss: 0.0018\n",
      "Epoch [7/10], Loss: 0.0015\n",
      "Epoch [8/10], Loss: 0.0013\n",
      "Epoch [9/10], Loss: 0.0012\n",
      "Epoch [10/10], Loss: 0.0010\n"
     ]
    }
   ],
   "source": [
    "LN1 = Net()\n",
    "def init_weights(m):\n",
    "    if isinstance(m, nn.Linear):\n",
    "        torch.nn.init.kaiming_normal_(m.weight, a = 0.5, nonlinearity='leaky_relu')\n",
    "LN1.apply(init_weights)\n",
    "losses = []\n",
    "train(64, 0.001, num_epochs, train_dataset2, LN1, criterion, losses)\n",
    "lw13 = torch.FloatTensor(losses)"
   ]
  },
  {
   "cell_type": "code",
   "execution_count": 305,
   "id": "7dcfe860",
   "metadata": {},
   "outputs": [
    {
     "name": "stdout",
     "output_type": "stream",
     "text": [
      "Epoch [1/10], Loss: 0.6939\n",
      "Epoch [2/10], Loss: 0.6939\n",
      "Epoch [3/10], Loss: 0.6939\n",
      "Epoch [4/10], Loss: 0.6939\n",
      "Epoch [5/10], Loss: 0.6939\n",
      "Epoch [6/10], Loss: 0.6939\n",
      "Epoch [7/10], Loss: 0.6939\n",
      "Epoch [8/10], Loss: 0.6939\n",
      "Epoch [9/10], Loss: 0.6939\n",
      "Epoch [10/10], Loss: 0.6939\n"
     ]
    }
   ],
   "source": [
    "LN2 = Net()\n",
    "def init_weights(m):\n",
    "    if isinstance(m, nn.Linear):\n",
    "        torch.nn.init.trunc_normal_(m.weight, mean=0.0, std=np.sqrt(2/(256*1.5)), a = -np.sqrt(2/(256*1.5)), b =np.sqrt(2/(256*1.5)) )\n",
    "LN2.apply(init_weights)\n",
    "losses = []\n",
    "train(64, 0.001, num_epochs, train_dataset2, LN2, criterion, losses)\n",
    "lw29 = torch.FloatTensor(losses)"
   ]
  },
  {
   "cell_type": "code",
   "execution_count": 306,
   "id": "e8283449",
   "metadata": {},
   "outputs": [
    {
     "data": {
      "image/png": "[encoded data removed]",
      "text/plain": [
       "<Figure size 432x288 with 1 Axes>"
      ]
     },
     "metadata": {
      "needs_background": "light"
     },
     "output_type": "display_data"
    }
   ],
   "source": [
    "plt.plot(epochs, lw13, color='r', label='Kaiming')\n",
    "plt.plot(epochs, lw29, color='b', label='normal')\n",
    "plt.xlabel(\"Epoch\")\n",
    "plt.ylabel(\"Loss\")\n",
    "plt.title(\"Stochastic Gradient Descent with Batch_Size = 64, H = 40, lr = 0.001, alpha = 0.5\")\n",
    "plt.legend()\n",
    "plt.show()"
   ]
  },
  {
   "cell_type": "code",
   "execution_count": 307,
   "id": "09e13706",
   "metadata": {},
   "outputs": [
    {
     "name": "stdout",
     "output_type": "stream",
     "text": [
      "Net(\n",
      "  (conv1): Conv2d(1, 6, kernel_size=(5, 5), stride=(1, 1))\n",
      "  (conv2): Conv2d(6, 49, kernel_size=(5, 5), stride=(1, 1))\n",
      "  (fc1): ModuleList(\n",
      "    (0): Linear(in_features=784, out_features=256, bias=True)\n",
      "    (1): Linear(in_features=256, out_features=256, bias=True)\n",
      "    (2): Linear(in_features=256, out_features=256, bias=True)\n",
      "    (3): Linear(in_features=256, out_features=256, bias=True)\n",
      "    (4): Linear(in_features=256, out_features=256, bias=True)\n",
      "    (5): Linear(in_features=256, out_features=256, bias=True)\n",
      "    (6): Linear(in_features=256, out_features=256, bias=True)\n",
      "    (7): Linear(in_features=256, out_features=256, bias=True)\n",
      "    (8): Linear(in_features=256, out_features=256, bias=True)\n",
      "    (9): Linear(in_features=256, out_features=256, bias=True)\n",
      "    (10): Linear(in_features=256, out_features=256, bias=True)\n",
      "    (11): Linear(in_features=256, out_features=256, bias=True)\n",
      "    (12): Linear(in_features=256, out_features=256, bias=True)\n",
      "    (13): Linear(in_features=256, out_features=256, bias=True)\n",
      "    (14): Linear(in_features=256, out_features=256, bias=True)\n",
      "    (15): Linear(in_features=256, out_features=256, bias=True)\n",
      "    (16): Linear(in_features=256, out_features=256, bias=True)\n",
      "    (17): Linear(in_features=256, out_features=256, bias=True)\n",
      "    (18): Linear(in_features=256, out_features=256, bias=True)\n",
      "    (19): Linear(in_features=256, out_features=256, bias=True)\n",
      "    (20): Linear(in_features=256, out_features=256, bias=True)\n",
      "    (21): Linear(in_features=256, out_features=256, bias=True)\n",
      "    (22): Linear(in_features=256, out_features=256, bias=True)\n",
      "    (23): Linear(in_features=256, out_features=256, bias=True)\n",
      "    (24): Linear(in_features=256, out_features=256, bias=True)\n",
      "    (25): Linear(in_features=256, out_features=256, bias=True)\n",
      "    (26): Linear(in_features=256, out_features=256, bias=True)\n",
      "    (27): Linear(in_features=256, out_features=256, bias=True)\n",
      "    (28): Linear(in_features=256, out_features=256, bias=True)\n",
      "    (29): Linear(in_features=256, out_features=256, bias=True)\n",
      "    (30): Linear(in_features=256, out_features=256, bias=True)\n",
      "    (31): Linear(in_features=256, out_features=256, bias=True)\n",
      "    (32): Linear(in_features=256, out_features=256, bias=True)\n",
      "    (33): Linear(in_features=256, out_features=256, bias=True)\n",
      "    (34): Linear(in_features=256, out_features=256, bias=True)\n",
      "    (35): Linear(in_features=256, out_features=256, bias=True)\n",
      "    (36): Linear(in_features=256, out_features=256, bias=True)\n",
      "    (37): Linear(in_features=256, out_features=256, bias=True)\n",
      "    (38): Linear(in_features=256, out_features=256, bias=True)\n",
      "  )\n",
      "  (fc_final): Linear(in_features=256, out_features=2, bias=True)\n",
      ")\n"
     ]
    }
   ],
   "source": [
    "class Net(nn.Module):\n",
    "\n",
    "    def __init__(self):\n",
    "        super(Net, self).__init__()\n",
    "        # 1 input image channel, 6 output channels, 5x5 square convolution\n",
    "        # kernel\n",
    "        self.conv1 = nn.Conv2d(1, 6, 5)\n",
    "        self.conv2 = nn.Conv2d(6, 49, 5)\n",
    "        # an affine operation: y = Wx + b\n",
    "        self.fc1 = nn.ModuleList([nn.Linear(784, 256)])\n",
    "        self.fc1.extend([nn.Linear(256, 256) for i in range(1, 39)])\n",
    "        self.fc_final = nn.Linear(256, 2)\n",
    "        #self.list = [nn.Linear(3, 4), nn.ReLU()]\n",
    "\n",
    "    def forward(self, x):\n",
    "        # Max pooling over a (2, 2) window\n",
    "        m = nn.LeakyReLU(1.0)\n",
    "        x = m(self.conv1(x))\n",
    "        x = F.max_pool2d(x, (2, 2))\n",
    "        x = m(self.conv2(x))\n",
    "        x = F.max_pool2d(x, 2)\n",
    "        x = torch.flatten(x, 1) # flatten all dimensions except the batch dimension\n",
    "        for fc1 in self.fc1:\n",
    "            x = m(fc1(x))\n",
    "        #x = self.fc1(x)\n",
    "        #x = m(self.fc1(x))\n",
    "        x = self.fc_final(x)\n",
    "        return x\n",
    "\n",
    "\n",
    "net = Net()\n",
    "print(net)"
   ]
  },
  {
   "cell_type": "code",
   "execution_count": 308,
   "id": "60e7a92e",
   "metadata": {},
   "outputs": [],
   "source": [
    "criterion = nn.CrossEntropyLoss()\n",
    "#optimizer = optim.SGD(LN1.parameters(), lr=0.01)"
   ]
  },
  {
   "cell_type": "code",
   "execution_count": 309,
   "id": "22f58a4a",
   "metadata": {},
   "outputs": [],
   "source": [
    "def train(bs, lr1, num_epochs, train_dataset, model, cost, losses):\n",
    "    for epoch in range(num_epochs):\n",
    "        epoch_loss = 0\n",
    "        num = 0\n",
    "        h = []\n",
    "        train_loader = torch.utils.data.DataLoader(dataset = train_dataset,\n",
    "                                           batch_size = bs,\n",
    "                                           shuffle = True)\n",
    "        for i, (images, labels) in enumerate(train_loader):\n",
    "                outputs = model(images)\n",
    "                loss = cost(outputs, labels)\n",
    "                optimizer = optim.SGD(LN1.parameters(), lr1)\n",
    "            # Backward and optimize\n",
    "                optimizer.zero_grad()\n",
    "                loss.backward()\n",
    "                optimizer.step()\n",
    "                epoch_loss += loss\n",
    "                num += 1\n",
    "        \n",
    "        print ('Epoch [{}/{}], Loss: {:.4f}' \n",
    "                       .format(epoch+1, num_epochs, epoch_loss / num))\n",
    "        losses.append(epoch_loss / num)\n",
    "    #return losses"
   ]
  },
  {
   "cell_type": "code",
   "execution_count": 310,
   "id": "08f51d63",
   "metadata": {},
   "outputs": [],
   "source": [
    "epochs = []\n",
    "for i in range(num_epochs):\n",
    "    epochs.append(i)"
   ]
  },
  {
   "cell_type": "code",
   "execution_count": 311,
   "id": "ffcf53e4",
   "metadata": {},
   "outputs": [
    {
     "name": "stdout",
     "output_type": "stream",
     "text": [
      "Epoch [1/10], Loss: 0.0486\n",
      "Epoch [2/10], Loss: 0.0099\n",
      "Epoch [3/10], Loss: 0.0073\n",
      "Epoch [4/10], Loss: 0.0061\n",
      "Epoch [5/10], Loss: 0.0051\n",
      "Epoch [6/10], Loss: 0.0046\n",
      "Epoch [7/10], Loss: 0.0039\n",
      "Epoch [8/10], Loss: 0.0036\n",
      "Epoch [9/10], Loss: 0.0032\n",
      "Epoch [10/10], Loss: 0.0028\n"
     ]
    }
   ],
   "source": [
    "LN1 = Net()\n",
    "def init_weights(m):\n",
    "    if isinstance(m, nn.Linear):\n",
    "        torch.nn.init.kaiming_normal_(m.weight, a = 1.0, nonlinearity='leaky_relu')\n",
    "LN1.apply(init_weights)\n",
    "losses = []\n",
    "train(64, 0.001, num_epochs, train_dataset2, LN1, criterion, losses)\n",
    "lw14 = torch.FloatTensor(losses)"
   ]
  },
  {
   "cell_type": "code",
   "execution_count": 312,
   "id": "a79ae2dc",
   "metadata": {},
   "outputs": [
    {
     "name": "stdout",
     "output_type": "stream",
     "text": [
      "Epoch [1/10], Loss: 0.6931\n",
      "Epoch [2/10], Loss: 0.6931\n",
      "Epoch [3/10], Loss: 0.6931\n",
      "Epoch [4/10], Loss: 0.6931\n",
      "Epoch [5/10], Loss: 0.6931\n",
      "Epoch [6/10], Loss: 0.6931\n",
      "Epoch [7/10], Loss: 0.6931\n",
      "Epoch [8/10], Loss: 0.6931\n",
      "Epoch [9/10], Loss: 0.6931\n",
      "Epoch [10/10], Loss: 0.6931\n"
     ]
    }
   ],
   "source": [
    "LN2 = Net()\n",
    "def init_weights(m):\n",
    "    if isinstance(m, nn.Linear):\n",
    "        torch.nn.init.trunc_normal_(m.weight, mean=0.0, std=np.sqrt(2/(256*2.0)), a = -np.sqrt(2/(256*2.0)), b =np.sqrt(2/(256*2.0)) )\n",
    "LN2.apply(init_weights)\n",
    "losses = []\n",
    "train(64, 0.001, num_epochs, train_dataset2, LN2, criterion, losses)\n",
    "lw30 = torch.FloatTensor(losses)"
   ]
  },
  {
   "cell_type": "code",
   "execution_count": 313,
   "id": "0dd59ea5",
   "metadata": {},
   "outputs": [
    {
     "data": {
      "image/png": "[encoded data removed]",
      "text/plain": [
       "<Figure size 432x288 with 1 Axes>"
      ]
     },
     "metadata": {
      "needs_background": "light"
     },
     "output_type": "display_data"
    }
   ],
   "source": [
    "plt.plot(epochs, lw14, color='r', label='Kaiming')\n",
    "plt.plot(epochs, lw30, color='b', label='normal')\n",
    "plt.xlabel(\"Epoch\")\n",
    "plt.ylabel(\"Loss\")\n",
    "plt.title(\"Stochastic Gradient Descent with Batch_Size = 64, H = 40, lr = 0.001, alpha = 1.0\")\n",
    "plt.legend()\n",
    "plt.show()"
   ]
  },
  {
   "cell_type": "code",
   "execution_count": 314,
   "id": "efdc2d06",
   "metadata": {},
   "outputs": [
    {
     "name": "stdout",
     "output_type": "stream",
     "text": [
      "Net(\n",
      "  (conv1): Conv2d(1, 6, kernel_size=(5, 5), stride=(1, 1))\n",
      "  (conv2): Conv2d(6, 49, kernel_size=(5, 5), stride=(1, 1))\n",
      "  (fc1): ModuleList(\n",
      "    (0): Linear(in_features=784, out_features=256, bias=True)\n",
      "    (1): Linear(in_features=256, out_features=256, bias=True)\n",
      "    (2): Linear(in_features=256, out_features=256, bias=True)\n",
      "    (3): Linear(in_features=256, out_features=256, bias=True)\n",
      "    (4): Linear(in_features=256, out_features=256, bias=True)\n",
      "    (5): Linear(in_features=256, out_features=256, bias=True)\n",
      "    (6): Linear(in_features=256, out_features=256, bias=True)\n",
      "    (7): Linear(in_features=256, out_features=256, bias=True)\n",
      "    (8): Linear(in_features=256, out_features=256, bias=True)\n",
      "    (9): Linear(in_features=256, out_features=256, bias=True)\n",
      "    (10): Linear(in_features=256, out_features=256, bias=True)\n",
      "    (11): Linear(in_features=256, out_features=256, bias=True)\n",
      "    (12): Linear(in_features=256, out_features=256, bias=True)\n",
      "    (13): Linear(in_features=256, out_features=256, bias=True)\n",
      "    (14): Linear(in_features=256, out_features=256, bias=True)\n",
      "    (15): Linear(in_features=256, out_features=256, bias=True)\n",
      "    (16): Linear(in_features=256, out_features=256, bias=True)\n",
      "    (17): Linear(in_features=256, out_features=256, bias=True)\n",
      "    (18): Linear(in_features=256, out_features=256, bias=True)\n",
      "    (19): Linear(in_features=256, out_features=256, bias=True)\n",
      "    (20): Linear(in_features=256, out_features=256, bias=True)\n",
      "    (21): Linear(in_features=256, out_features=256, bias=True)\n",
      "    (22): Linear(in_features=256, out_features=256, bias=True)\n",
      "    (23): Linear(in_features=256, out_features=256, bias=True)\n",
      "    (24): Linear(in_features=256, out_features=256, bias=True)\n",
      "    (25): Linear(in_features=256, out_features=256, bias=True)\n",
      "    (26): Linear(in_features=256, out_features=256, bias=True)\n",
      "    (27): Linear(in_features=256, out_features=256, bias=True)\n",
      "    (28): Linear(in_features=256, out_features=256, bias=True)\n",
      "    (29): Linear(in_features=256, out_features=256, bias=True)\n",
      "    (30): Linear(in_features=256, out_features=256, bias=True)\n",
      "    (31): Linear(in_features=256, out_features=256, bias=True)\n",
      "    (32): Linear(in_features=256, out_features=256, bias=True)\n",
      "    (33): Linear(in_features=256, out_features=256, bias=True)\n",
      "    (34): Linear(in_features=256, out_features=256, bias=True)\n",
      "    (35): Linear(in_features=256, out_features=256, bias=True)\n",
      "    (36): Linear(in_features=256, out_features=256, bias=True)\n",
      "    (37): Linear(in_features=256, out_features=256, bias=True)\n",
      "    (38): Linear(in_features=256, out_features=256, bias=True)\n",
      "  )\n",
      "  (fc_final): Linear(in_features=256, out_features=2, bias=True)\n",
      ")\n"
     ]
    }
   ],
   "source": [
    "class Net(nn.Module):\n",
    "\n",
    "    def __init__(self):\n",
    "        super(Net, self).__init__()\n",
    "        # 1 input image channel, 6 output channels, 5x5 square convolution\n",
    "        # kernel\n",
    "        self.conv1 = nn.Conv2d(1, 6, 5)\n",
    "        self.conv2 = nn.Conv2d(6, 49, 5)\n",
    "        # an affine operation: y = Wx + b\n",
    "        self.fc1 = nn.ModuleList([nn.Linear(784, 256)])\n",
    "        self.fc1.extend([nn.Linear(256, 256) for i in range(1, 39)])\n",
    "        self.fc_final = nn.Linear(256, 2)\n",
    "        #self.list = [nn.Linear(3, 4), nn.ReLU()]\n",
    "\n",
    "    def forward(self, x):\n",
    "        # Max pooling over a (2, 2) window\n",
    "        m = nn.LeakyReLU(2.0)\n",
    "        x = m(self.conv1(x))\n",
    "        x = F.max_pool2d(x, (2, 2))\n",
    "        x = m(self.conv2(x))\n",
    "        x = F.max_pool2d(x, 2)\n",
    "        x = torch.flatten(x, 1) # flatten all dimensions except the batch dimension\n",
    "        for fc1 in self.fc1:\n",
    "            x = m(fc1(x))\n",
    "        #x = self.fc1(x)\n",
    "        #x = m(self.fc1(x))\n",
    "        x = self.fc_final(x)\n",
    "        return x\n",
    "\n",
    "\n",
    "net = Net()\n",
    "print(net)"
   ]
  },
  {
   "cell_type": "code",
   "execution_count": 315,
   "id": "24cd73e5",
   "metadata": {},
   "outputs": [],
   "source": [
    "criterion = nn.CrossEntropyLoss()\n",
    "#optimizer = optim.SGD(LN1.parameters(), lr=0.01)"
   ]
  },
  {
   "cell_type": "code",
   "execution_count": 316,
   "id": "85c3846d",
   "metadata": {},
   "outputs": [],
   "source": [
    "def train(bs, lr1, num_epochs, train_dataset, model, cost, losses):\n",
    "    for epoch in range(num_epochs):\n",
    "        epoch_loss = 0\n",
    "        num = 0\n",
    "        h = []\n",
    "        train_loader = torch.utils.data.DataLoader(dataset = train_dataset,\n",
    "                                           batch_size = bs,\n",
    "                                           shuffle = True)\n",
    "        for i, (images, labels) in enumerate(train_loader):\n",
    "                outputs = model(images)\n",
    "                loss = cost(outputs, labels)\n",
    "                optimizer = optim.SGD(LN1.parameters(), lr1)\n",
    "            # Backward and optimize\n",
    "                optimizer.zero_grad()\n",
    "                loss.backward()\n",
    "                optimizer.step()\n",
    "                epoch_loss += loss\n",
    "                num += 1\n",
    "        \n",
    "        print ('Epoch [{}/{}], Loss: {:.4f}' \n",
    "                       .format(epoch+1, num_epochs, epoch_loss / num))\n",
    "        losses.append(epoch_loss / num)\n",
    "    #return losses"
   ]
  },
  {
   "cell_type": "code",
   "execution_count": 317,
   "id": "762e12ca",
   "metadata": {},
   "outputs": [],
   "source": [
    "epochs = []\n",
    "for i in range(num_epochs):\n",
    "    epochs.append(i)"
   ]
  },
  {
   "cell_type": "code",
   "execution_count": 318,
   "id": "990f930a",
   "metadata": {},
   "outputs": [
    {
     "name": "stdout",
     "output_type": "stream",
     "text": [
      "Epoch [1/10], Loss: 0.0288\n",
      "Epoch [2/10], Loss: 0.0055\n",
      "Epoch [3/10], Loss: 0.0039\n",
      "Epoch [4/10], Loss: 0.0018\n",
      "Epoch [5/10], Loss: 0.0014\n",
      "Epoch [6/10], Loss: 0.0008\n",
      "Epoch [7/10], Loss: 0.0004\n",
      "Epoch [8/10], Loss: 0.0002\n",
      "Epoch [9/10], Loss: 0.0001\n",
      "Epoch [10/10], Loss: 0.0001\n"
     ]
    }
   ],
   "source": [
    "LN1 = Net()\n",
    "def init_weights(m):\n",
    "    if isinstance(m, nn.Linear):\n",
    "        torch.nn.init.kaiming_normal_(m.weight, a = 2.0, nonlinearity='leaky_relu')\n",
    "LN1.apply(init_weights)\n",
    "losses = []\n",
    "train(64, 0.001, num_epochs, train_dataset2, LN1, criterion, losses)\n",
    "lw15 = torch.FloatTensor(losses)"
   ]
  },
  {
   "cell_type": "code",
   "execution_count": 319,
   "id": "211331dc",
   "metadata": {},
   "outputs": [
    {
     "name": "stdout",
     "output_type": "stream",
     "text": [
      "Epoch [1/10], Loss: 0.6957\n",
      "Epoch [2/10], Loss: 0.6957\n",
      "Epoch [3/10], Loss: 0.6957\n",
      "Epoch [4/10], Loss: 0.6957\n",
      "Epoch [5/10], Loss: 0.6957\n",
      "Epoch [6/10], Loss: 0.6957\n",
      "Epoch [7/10], Loss: 0.6957\n",
      "Epoch [8/10], Loss: 0.6957\n",
      "Epoch [9/10], Loss: 0.6957\n",
      "Epoch [10/10], Loss: 0.6957\n"
     ]
    }
   ],
   "source": [
    "LN2 = Net()\n",
    "def init_weights(m):\n",
    "    if isinstance(m, nn.Linear):\n",
    "        torch.nn.init.trunc_normal_(m.weight, mean=0.0, std=np.sqrt(2/(256*3.0)), a = -np.sqrt(2/(256*3.0)), b = np.sqrt(2/(256*3.0)))\n",
    "LN2.apply(init_weights)\n",
    "losses = []\n",
    "train(64, 0.001, num_epochs, train_dataset2, LN2, criterion, losses)\n",
    "lw31 = torch.FloatTensor(losses)"
   ]
  },
  {
   "cell_type": "code",
   "execution_count": 320,
   "id": "df8ef358",
   "metadata": {},
   "outputs": [
    {
     "data": {
      "image/png": "[encoded data removed]",
      "text/plain": [
       "<Figure size 432x288 with 1 Axes>"
      ]
     },
     "metadata": {
      "needs_background": "light"
     },
     "output_type": "display_data"
    }
   ],
   "source": [
    "plt.plot(epochs, lw15, color='r', label='Kaiming')\n",
    "plt.plot(epochs, lw31, color='b', label='normal')\n",
    "plt.xlabel(\"Epoch\")\n",
    "plt.ylabel(\"Loss\")\n",
    "plt.title(\"Stochastic Gradient Descent with Batch_Size = 64, H = 40, lr = 0.001, alpha = 2.0\")\n",
    "plt.legend()\n",
    "plt.show()"
   ]
  },
  {
   "cell_type": "code",
   "execution_count": null,
   "id": "dbe6a252",
   "metadata": {},
   "outputs": [],
   "source": []
  }
 ],
 "metadata": {
  "kernelspec": {
   "display_name": "Python 3 (ipykernel)",
   "language": "python",
   "name": "python3"
  },
  "language_info": {
   "codemirror_mode": {
    "name": "ipython",
    "version": 3
   },
   "file_extension": ".py",
   "mimetype": "text/x-python",
   "name": "python",
   "nbconvert_exporter": "python",
   "pygments_lexer": "ipython3",
   "version": "3.9.12"
  }
 },
 "nbformat": 4,
 "nbformat_minor": 5
}
